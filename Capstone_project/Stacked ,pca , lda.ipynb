{
 "cells": [
  {
   "cell_type": "code",
   "execution_count": 1,
   "id": "de3b2fae",
   "metadata": {},
   "outputs": [],
   "source": [
    "import pandas as pd\n",
    "import numpy as np\n",
    "import matplotlib.pyplot as plt\n",
    "import seaborn as sns\n",
    "\n",
    "# display all columns of the dataframe\n",
    "pd.options.display.max_columns = None\n",
    "\n",
    "# display all rows of the dataframe\n",
    "pd.options.display.max_rows = None\n",
    " \n",
    "# to display the float values upto 6 decimal places     \n",
    "pd.options.display.float_format = '{:.6f}'.format\n",
    "\n",
    "# import train-test split \n",
    "from sklearn.model_selection import train_test_split\n",
    "\n",
    "# import StandardScaler to perform scaling\n",
    "from sklearn.preprocessing import StandardScaler \n",
    "\n",
    "# import various functions from sklearn\n",
    "from sklearn.metrics import classification_report\n",
    "from sklearn.tree import DecisionTreeClassifier\n",
    "from sklearn.ensemble import RandomForestClassifier\n",
    "from sklearn import tree\n",
    "from sklearn.model_selection import GridSearchCV\n",
    "\n",
    "from sklearn.preprocessing import OrdinalEncoder,LabelEncoder,OneHotEncoder,PowerTransformer\n",
    "from feature_engine.encoding import WoEEncoder\n",
    "\n",
    "from matplotlib.colors import ListedColormap\n",
    "from sklearn.metrics import confusion_matrix,roc_auc_score,roc_curve\n",
    "from warnings import filterwarnings\n",
    "filterwarnings('ignore')\n",
    "plt.rcParams['figure.figsize']=[15,8]"
   ]
  },
  {
   "cell_type": "code",
   "execution_count": 2,
   "id": "9e4aeb72",
   "metadata": {},
   "outputs": [
    {
     "data": {
      "text/html": [
       "<div>\n",
       "<style scoped>\n",
       "    .dataframe tbody tr th:only-of-type {\n",
       "        vertical-align: middle;\n",
       "    }\n",
       "\n",
       "    .dataframe tbody tr th {\n",
       "        vertical-align: top;\n",
       "    }\n",
       "\n",
       "    .dataframe thead th {\n",
       "        text-align: right;\n",
       "    }\n",
       "</style>\n",
       "<table border=\"1\" class=\"dataframe\">\n",
       "  <thead>\n",
       "    <tr style=\"text-align: right;\">\n",
       "      <th></th>\n",
       "      <th>loan_amnt</th>\n",
       "      <th>term</th>\n",
       "      <th>int_rate</th>\n",
       "      <th>installment</th>\n",
       "      <th>grade</th>\n",
       "      <th>sub_grade</th>\n",
       "      <th>emp_title</th>\n",
       "      <th>emp_length</th>\n",
       "      <th>home_ownership</th>\n",
       "      <th>annual_inc</th>\n",
       "      <th>verification_status</th>\n",
       "      <th>loan_status</th>\n",
       "      <th>purpose</th>\n",
       "      <th>title</th>\n",
       "      <th>dti</th>\n",
       "      <th>open_acc</th>\n",
       "      <th>pub_rec</th>\n",
       "      <th>revol_bal</th>\n",
       "      <th>revol_util</th>\n",
       "      <th>total_acc</th>\n",
       "      <th>initial_list_status</th>\n",
       "      <th>application_type</th>\n",
       "      <th>mort_acc</th>\n",
       "      <th>pub_rec_bankruptcies</th>\n",
       "      <th>issue_year</th>\n",
       "      <th>issue_month</th>\n",
       "      <th>earliest_cr_line_month</th>\n",
       "      <th>earliest_cr_line_year</th>\n",
       "    </tr>\n",
       "  </thead>\n",
       "  <tbody>\n",
       "    <tr>\n",
       "      <th>0</th>\n",
       "      <td>10000.000000</td>\n",
       "      <td>36 months</td>\n",
       "      <td>11.440000</td>\n",
       "      <td>329.480000</td>\n",
       "      <td>B</td>\n",
       "      <td>B4</td>\n",
       "      <td>Marketing</td>\n",
       "      <td>10+ years</td>\n",
       "      <td>RENT</td>\n",
       "      <td>117000.000000</td>\n",
       "      <td>Not Verified</td>\n",
       "      <td>Fully Paid</td>\n",
       "      <td>vacation</td>\n",
       "      <td>Vacation</td>\n",
       "      <td>26.240000</td>\n",
       "      <td>16</td>\n",
       "      <td>0</td>\n",
       "      <td>36369.000000</td>\n",
       "      <td>41.800000</td>\n",
       "      <td>25</td>\n",
       "      <td>w</td>\n",
       "      <td>INDIVIDUAL</td>\n",
       "      <td>0</td>\n",
       "      <td>0</td>\n",
       "      <td>2015</td>\n",
       "      <td>1</td>\n",
       "      <td>6</td>\n",
       "      <td>1990</td>\n",
       "    </tr>\n",
       "    <tr>\n",
       "      <th>1</th>\n",
       "      <td>8000.000000</td>\n",
       "      <td>36 months</td>\n",
       "      <td>11.990000</td>\n",
       "      <td>265.680000</td>\n",
       "      <td>B</td>\n",
       "      <td>B5</td>\n",
       "      <td>Credit analyst</td>\n",
       "      <td>4 years</td>\n",
       "      <td>MORTGAGE</td>\n",
       "      <td>65000.000000</td>\n",
       "      <td>Not Verified</td>\n",
       "      <td>Fully Paid</td>\n",
       "      <td>debt_consolidation</td>\n",
       "      <td>Debt consolidation</td>\n",
       "      <td>22.050000</td>\n",
       "      <td>17</td>\n",
       "      <td>0</td>\n",
       "      <td>20131.000000</td>\n",
       "      <td>53.300000</td>\n",
       "      <td>27</td>\n",
       "      <td>f</td>\n",
       "      <td>INDIVIDUAL</td>\n",
       "      <td>3</td>\n",
       "      <td>0</td>\n",
       "      <td>2015</td>\n",
       "      <td>1</td>\n",
       "      <td>7</td>\n",
       "      <td>2004</td>\n",
       "    </tr>\n",
       "    <tr>\n",
       "      <th>2</th>\n",
       "      <td>15600.000000</td>\n",
       "      <td>36 months</td>\n",
       "      <td>10.490000</td>\n",
       "      <td>506.970000</td>\n",
       "      <td>B</td>\n",
       "      <td>B3</td>\n",
       "      <td>Statistician</td>\n",
       "      <td>&lt; 1 year</td>\n",
       "      <td>RENT</td>\n",
       "      <td>43057.000000</td>\n",
       "      <td>Source Verified</td>\n",
       "      <td>Fully Paid</td>\n",
       "      <td>credit_card</td>\n",
       "      <td>Credit card refinancing</td>\n",
       "      <td>12.790000</td>\n",
       "      <td>13</td>\n",
       "      <td>0</td>\n",
       "      <td>11987.000000</td>\n",
       "      <td>92.200000</td>\n",
       "      <td>26</td>\n",
       "      <td>f</td>\n",
       "      <td>INDIVIDUAL</td>\n",
       "      <td>0</td>\n",
       "      <td>0</td>\n",
       "      <td>2015</td>\n",
       "      <td>1</td>\n",
       "      <td>8</td>\n",
       "      <td>2007</td>\n",
       "    </tr>\n",
       "    <tr>\n",
       "      <th>3</th>\n",
       "      <td>7200.000000</td>\n",
       "      <td>36 months</td>\n",
       "      <td>6.490000</td>\n",
       "      <td>220.650000</td>\n",
       "      <td>A</td>\n",
       "      <td>A2</td>\n",
       "      <td>Client Advocate</td>\n",
       "      <td>6 years</td>\n",
       "      <td>RENT</td>\n",
       "      <td>54000.000000</td>\n",
       "      <td>Not Verified</td>\n",
       "      <td>Fully Paid</td>\n",
       "      <td>credit_card</td>\n",
       "      <td>Credit card refinancing</td>\n",
       "      <td>2.600000</td>\n",
       "      <td>6</td>\n",
       "      <td>0</td>\n",
       "      <td>5472.000000</td>\n",
       "      <td>21.500000</td>\n",
       "      <td>13</td>\n",
       "      <td>f</td>\n",
       "      <td>INDIVIDUAL</td>\n",
       "      <td>0</td>\n",
       "      <td>0</td>\n",
       "      <td>2014</td>\n",
       "      <td>11</td>\n",
       "      <td>9</td>\n",
       "      <td>2006</td>\n",
       "    </tr>\n",
       "    <tr>\n",
       "      <th>4</th>\n",
       "      <td>24375.000000</td>\n",
       "      <td>60 months</td>\n",
       "      <td>17.270000</td>\n",
       "      <td>609.330000</td>\n",
       "      <td>C</td>\n",
       "      <td>C5</td>\n",
       "      <td>Destiny Management Inc.</td>\n",
       "      <td>9 years</td>\n",
       "      <td>MORTGAGE</td>\n",
       "      <td>55000.000000</td>\n",
       "      <td>Verified</td>\n",
       "      <td>Charged Off</td>\n",
       "      <td>credit_card</td>\n",
       "      <td>Credit Card Refinance</td>\n",
       "      <td>33.950000</td>\n",
       "      <td>13</td>\n",
       "      <td>0</td>\n",
       "      <td>24584.000000</td>\n",
       "      <td>69.800000</td>\n",
       "      <td>43</td>\n",
       "      <td>f</td>\n",
       "      <td>INDIVIDUAL</td>\n",
       "      <td>1</td>\n",
       "      <td>0</td>\n",
       "      <td>2013</td>\n",
       "      <td>4</td>\n",
       "      <td>3</td>\n",
       "      <td>1999</td>\n",
       "    </tr>\n",
       "  </tbody>\n",
       "</table>\n",
       "</div>"
      ],
      "text/plain": [
       "     loan_amnt        term  int_rate  installment grade sub_grade  \\\n",
       "0 10000.000000   36 months 11.440000   329.480000     B        B4   \n",
       "1  8000.000000   36 months 11.990000   265.680000     B        B5   \n",
       "2 15600.000000   36 months 10.490000   506.970000     B        B3   \n",
       "3  7200.000000   36 months  6.490000   220.650000     A        A2   \n",
       "4 24375.000000   60 months 17.270000   609.330000     C        C5   \n",
       "\n",
       "                 emp_title emp_length home_ownership    annual_inc  \\\n",
       "0                Marketing  10+ years           RENT 117000.000000   \n",
       "1          Credit analyst     4 years       MORTGAGE  65000.000000   \n",
       "2             Statistician   < 1 year           RENT  43057.000000   \n",
       "3          Client Advocate    6 years           RENT  54000.000000   \n",
       "4  Destiny Management Inc.    9 years       MORTGAGE  55000.000000   \n",
       "\n",
       "  verification_status  loan_status             purpose  \\\n",
       "0        Not Verified   Fully Paid            vacation   \n",
       "1        Not Verified   Fully Paid  debt_consolidation   \n",
       "2     Source Verified   Fully Paid         credit_card   \n",
       "3        Not Verified   Fully Paid         credit_card   \n",
       "4            Verified  Charged Off         credit_card   \n",
       "\n",
       "                     title       dti  open_acc  pub_rec    revol_bal  \\\n",
       "0                 Vacation 26.240000        16        0 36369.000000   \n",
       "1       Debt consolidation 22.050000        17        0 20131.000000   \n",
       "2  Credit card refinancing 12.790000        13        0 11987.000000   \n",
       "3  Credit card refinancing  2.600000         6        0  5472.000000   \n",
       "4    Credit Card Refinance 33.950000        13        0 24584.000000   \n",
       "\n",
       "   revol_util  total_acc initial_list_status application_type  mort_acc  \\\n",
       "0   41.800000         25                   w       INDIVIDUAL         0   \n",
       "1   53.300000         27                   f       INDIVIDUAL         3   \n",
       "2   92.200000         26                   f       INDIVIDUAL         0   \n",
       "3   21.500000         13                   f       INDIVIDUAL         0   \n",
       "4   69.800000         43                   f       INDIVIDUAL         1   \n",
       "\n",
       "   pub_rec_bankruptcies  issue_year  issue_month  earliest_cr_line_month  \\\n",
       "0                     0        2015            1                       6   \n",
       "1                     0        2015            1                       7   \n",
       "2                     0        2015            1                       8   \n",
       "3                     0        2014           11                       9   \n",
       "4                     0        2013            4                       3   \n",
       "\n",
       "   earliest_cr_line_year  \n",
       "0                   1990  \n",
       "1                   2004  \n",
       "2                   2007  \n",
       "3                   2006  \n",
       "4                   1999  "
      ]
     },
     "execution_count": 2,
     "metadata": {},
     "output_type": "execute_result"
    }
   ],
   "source": [
    "df=pd.read_csv('Clean.csv',index_col=0)\n",
    "df.head()"
   ]
  },
  {
   "cell_type": "code",
   "execution_count": 3,
   "id": "66eba609",
   "metadata": {},
   "outputs": [],
   "source": [
    "# getting rid of the redundant columns and rows\n",
    "df1=df[~(df['dti']>300)]\n",
    "df1.drop(columns=['issue_year', 'issue_month','earliest_cr_line_month', 'earliest_cr_line_year','sub_grade','initial_list_status','emp_title','title','initial_list_status'],inplace=True)"
   ]
  },
  {
   "cell_type": "markdown",
   "id": "63c444ba",
   "metadata": {},
   "source": [
    "## Scalling the data"
   ]
  },
  {
   "cell_type": "code",
   "execution_count": 19,
   "id": "d029ae47",
   "metadata": {},
   "outputs": [],
   "source": [
    "from sklearn.neighbors import KNeighborsClassifier\n",
    "from sklearn.naive_bayes import GaussianNB\n",
    "from sklearn.ensemble import StackingClassifier"
   ]
  },
  {
   "cell_type": "code",
   "execution_count": 4,
   "id": "c4cbb286",
   "metadata": {},
   "outputs": [
    {
     "data": {
      "text/html": [
       "<div>\n",
       "<style scoped>\n",
       "    .dataframe tbody tr th:only-of-type {\n",
       "        vertical-align: middle;\n",
       "    }\n",
       "\n",
       "    .dataframe tbody tr th {\n",
       "        vertical-align: top;\n",
       "    }\n",
       "\n",
       "    .dataframe thead th {\n",
       "        text-align: right;\n",
       "    }\n",
       "</style>\n",
       "<table border=\"1\" class=\"dataframe\">\n",
       "  <thead>\n",
       "    <tr style=\"text-align: right;\">\n",
       "      <th></th>\n",
       "      <th>loan_amnt</th>\n",
       "      <th>int_rate</th>\n",
       "      <th>installment</th>\n",
       "      <th>annual_inc</th>\n",
       "      <th>dti</th>\n",
       "      <th>open_acc</th>\n",
       "      <th>pub_rec</th>\n",
       "      <th>revol_bal</th>\n",
       "      <th>revol_util</th>\n",
       "      <th>total_acc</th>\n",
       "      <th>mort_acc</th>\n",
       "      <th>pub_rec_bankruptcies</th>\n",
       "    </tr>\n",
       "  </thead>\n",
       "  <tbody>\n",
       "    <tr>\n",
       "      <th>0</th>\n",
       "      <td>10000.000000</td>\n",
       "      <td>11.440000</td>\n",
       "      <td>329.480000</td>\n",
       "      <td>117000.000000</td>\n",
       "      <td>26.240000</td>\n",
       "      <td>16</td>\n",
       "      <td>0</td>\n",
       "      <td>36369.000000</td>\n",
       "      <td>41.800000</td>\n",
       "      <td>25</td>\n",
       "      <td>0</td>\n",
       "      <td>0</td>\n",
       "    </tr>\n",
       "    <tr>\n",
       "      <th>1</th>\n",
       "      <td>8000.000000</td>\n",
       "      <td>11.990000</td>\n",
       "      <td>265.680000</td>\n",
       "      <td>65000.000000</td>\n",
       "      <td>22.050000</td>\n",
       "      <td>17</td>\n",
       "      <td>0</td>\n",
       "      <td>20131.000000</td>\n",
       "      <td>53.300000</td>\n",
       "      <td>27</td>\n",
       "      <td>3</td>\n",
       "      <td>0</td>\n",
       "    </tr>\n",
       "    <tr>\n",
       "      <th>2</th>\n",
       "      <td>15600.000000</td>\n",
       "      <td>10.490000</td>\n",
       "      <td>506.970000</td>\n",
       "      <td>43057.000000</td>\n",
       "      <td>12.790000</td>\n",
       "      <td>13</td>\n",
       "      <td>0</td>\n",
       "      <td>11987.000000</td>\n",
       "      <td>92.200000</td>\n",
       "      <td>26</td>\n",
       "      <td>0</td>\n",
       "      <td>0</td>\n",
       "    </tr>\n",
       "    <tr>\n",
       "      <th>3</th>\n",
       "      <td>7200.000000</td>\n",
       "      <td>6.490000</td>\n",
       "      <td>220.650000</td>\n",
       "      <td>54000.000000</td>\n",
       "      <td>2.600000</td>\n",
       "      <td>6</td>\n",
       "      <td>0</td>\n",
       "      <td>5472.000000</td>\n",
       "      <td>21.500000</td>\n",
       "      <td>13</td>\n",
       "      <td>0</td>\n",
       "      <td>0</td>\n",
       "    </tr>\n",
       "    <tr>\n",
       "      <th>4</th>\n",
       "      <td>24375.000000</td>\n",
       "      <td>17.270000</td>\n",
       "      <td>609.330000</td>\n",
       "      <td>55000.000000</td>\n",
       "      <td>33.950000</td>\n",
       "      <td>13</td>\n",
       "      <td>0</td>\n",
       "      <td>24584.000000</td>\n",
       "      <td>69.800000</td>\n",
       "      <td>43</td>\n",
       "      <td>1</td>\n",
       "      <td>0</td>\n",
       "    </tr>\n",
       "  </tbody>\n",
       "</table>\n",
       "</div>"
      ],
      "text/plain": [
       "     loan_amnt  int_rate  installment    annual_inc       dti  open_acc  \\\n",
       "0 10000.000000 11.440000   329.480000 117000.000000 26.240000        16   \n",
       "1  8000.000000 11.990000   265.680000  65000.000000 22.050000        17   \n",
       "2 15600.000000 10.490000   506.970000  43057.000000 12.790000        13   \n",
       "3  7200.000000  6.490000   220.650000  54000.000000  2.600000         6   \n",
       "4 24375.000000 17.270000   609.330000  55000.000000 33.950000        13   \n",
       "\n",
       "   pub_rec    revol_bal  revol_util  total_acc  mort_acc  pub_rec_bankruptcies  \n",
       "0        0 36369.000000   41.800000         25         0                     0  \n",
       "1        0 20131.000000   53.300000         27         3                     0  \n",
       "2        0 11987.000000   92.200000         26         0                     0  \n",
       "3        0  5472.000000   21.500000         13         0                     0  \n",
       "4        0 24584.000000   69.800000         43         1                     0  "
      ]
     },
     "execution_count": 4,
     "metadata": {},
     "output_type": "execute_result"
    }
   ],
   "source": [
    "df1_num=df1.select_dtypes(include=np.number)\n",
    "df1_num.head()"
   ]
  },
  {
   "cell_type": "code",
   "execution_count": 11,
   "id": "6f771512",
   "metadata": {},
   "outputs": [
    {
     "data": {
      "text/html": [
       "<div>\n",
       "<style scoped>\n",
       "    .dataframe tbody tr th:only-of-type {\n",
       "        vertical-align: middle;\n",
       "    }\n",
       "\n",
       "    .dataframe tbody tr th {\n",
       "        vertical-align: top;\n",
       "    }\n",
       "\n",
       "    .dataframe thead th {\n",
       "        text-align: right;\n",
       "    }\n",
       "</style>\n",
       "<table border=\"1\" class=\"dataframe\">\n",
       "  <thead>\n",
       "    <tr style=\"text-align: right;\">\n",
       "      <th></th>\n",
       "      <th>loan_amnt</th>\n",
       "      <th>int_rate</th>\n",
       "      <th>installment</th>\n",
       "      <th>annual_inc</th>\n",
       "      <th>dti</th>\n",
       "      <th>open_acc</th>\n",
       "      <th>pub_rec</th>\n",
       "      <th>revol_bal</th>\n",
       "      <th>revol_util</th>\n",
       "      <th>total_acc</th>\n",
       "      <th>mort_acc</th>\n",
       "      <th>pub_rec_bankruptcies</th>\n",
       "    </tr>\n",
       "  </thead>\n",
       "  <tbody>\n",
       "    <tr>\n",
       "      <th>0</th>\n",
       "      <td>-0.492242</td>\n",
       "      <td>-0.491799</td>\n",
       "      <td>-0.408290</td>\n",
       "      <td>0.694323</td>\n",
       "      <td>1.092107</td>\n",
       "      <td>0.912659</td>\n",
       "      <td>-0.335786</td>\n",
       "      <td>0.996727</td>\n",
       "      <td>-0.490616</td>\n",
       "      <td>-0.034885</td>\n",
       "      <td>-0.844169</td>\n",
       "      <td>-0.341284</td>\n",
       "    </tr>\n",
       "    <tr>\n",
       "      <th>1</th>\n",
       "      <td>-0.731550</td>\n",
       "      <td>-0.368816</td>\n",
       "      <td>-0.662750</td>\n",
       "      <td>-0.149320</td>\n",
       "      <td>0.577418</td>\n",
       "      <td>1.107302</td>\n",
       "      <td>-0.335786</td>\n",
       "      <td>0.208163</td>\n",
       "      <td>-0.020148</td>\n",
       "      <td>0.133368</td>\n",
       "      <td>0.614391</td>\n",
       "      <td>-0.341284</td>\n",
       "    </tr>\n",
       "    <tr>\n",
       "      <th>2</th>\n",
       "      <td>0.177821</td>\n",
       "      <td>-0.704225</td>\n",
       "      <td>0.299610</td>\n",
       "      <td>-0.505321</td>\n",
       "      <td>-0.560058</td>\n",
       "      <td>0.328730</td>\n",
       "      <td>-0.335786</td>\n",
       "      <td>-0.187332</td>\n",
       "      <td>1.571263</td>\n",
       "      <td>0.049241</td>\n",
       "      <td>-0.844169</td>\n",
       "      <td>-0.341284</td>\n",
       "    </tr>\n",
       "    <tr>\n",
       "      <th>3</th>\n",
       "      <td>-0.827273</td>\n",
       "      <td>-1.598647</td>\n",
       "      <td>-0.842347</td>\n",
       "      <td>-0.327783</td>\n",
       "      <td>-1.811773</td>\n",
       "      <td>-1.033772</td>\n",
       "      <td>-0.335786</td>\n",
       "      <td>-0.503719</td>\n",
       "      <td>-1.321095</td>\n",
       "      <td>-1.044402</td>\n",
       "      <td>-0.844169</td>\n",
       "      <td>-0.341284</td>\n",
       "    </tr>\n",
       "    <tr>\n",
       "      <th>4</th>\n",
       "      <td>1.227785</td>\n",
       "      <td>0.811821</td>\n",
       "      <td>0.707862</td>\n",
       "      <td>-0.311559</td>\n",
       "      <td>2.039185</td>\n",
       "      <td>0.328730</td>\n",
       "      <td>-0.335786</td>\n",
       "      <td>0.424414</td>\n",
       "      <td>0.654872</td>\n",
       "      <td>1.479390</td>\n",
       "      <td>-0.357982</td>\n",
       "      <td>-0.341284</td>\n",
       "    </tr>\n",
       "  </tbody>\n",
       "</table>\n",
       "</div>"
      ],
      "text/plain": [
       "   loan_amnt  int_rate  installment  annual_inc       dti  open_acc   pub_rec  \\\n",
       "0  -0.492242 -0.491799    -0.408290    0.694323  1.092107  0.912659 -0.335786   \n",
       "1  -0.731550 -0.368816    -0.662750   -0.149320  0.577418  1.107302 -0.335786   \n",
       "2   0.177821 -0.704225     0.299610   -0.505321 -0.560058  0.328730 -0.335786   \n",
       "3  -0.827273 -1.598647    -0.842347   -0.327783 -1.811773 -1.033772 -0.335786   \n",
       "4   1.227785  0.811821     0.707862   -0.311559  2.039185  0.328730 -0.335786   \n",
       "\n",
       "   revol_bal  revol_util  total_acc  mort_acc  pub_rec_bankruptcies  \n",
       "0   0.996727   -0.490616  -0.034885 -0.844169             -0.341284  \n",
       "1   0.208163   -0.020148   0.133368  0.614391             -0.341284  \n",
       "2  -0.187332    1.571263   0.049241 -0.844169             -0.341284  \n",
       "3  -0.503719   -1.321095  -1.044402 -0.844169             -0.341284  \n",
       "4   0.424414    0.654872   1.479390 -0.357982             -0.341284  "
      ]
     },
     "execution_count": 11,
     "metadata": {},
     "output_type": "execute_result"
    }
   ],
   "source": [
    "from sklearn.preprocessing import StandardScaler\n",
    "ss=StandardScaler()\n",
    "df1_scaled=pd.DataFrame(ss.fit_transform(df1_num),columns=df1_num.columns)\n",
    "df1_scaled.head()"
   ]
  },
  {
   "cell_type": "markdown",
   "id": "87c8cb7c",
   "metadata": {},
   "source": [
    "## KNN on the numerical variables"
   ]
  },
  {
   "cell_type": "markdown",
   "id": "4e020fa8",
   "metadata": {},
   "source": [
    "#### creating genaralized functions"
   ]
  },
  {
   "cell_type": "code",
   "execution_count": 167,
   "id": "4d269c9c",
   "metadata": {},
   "outputs": [],
   "source": [
    "# create a generalized function to calculate the metrics values for train set\n",
    "def get_train_report(model,X_train):\n",
    "    \n",
    "    train_pred = model.predict(X_train)\n",
    "\n",
    "    # return the performace measures on train set\n",
    "    return(classification_report(y_train, train_pred))"
   ]
  },
  {
   "cell_type": "code",
   "execution_count": 168,
   "id": "9f30bc24",
   "metadata": {},
   "outputs": [],
   "source": [
    "# create a generalized function to calculate the metrics values for test set\n",
    "def get_test_report(model,X_test):\n",
    "    \n",
    "    test_pred = model.predict(X_test)\n",
    "\n",
    "    # return the performace measures on test set\n",
    "    return(classification_report(y_test, test_pred))"
   ]
  },
  {
   "cell_type": "code",
   "execution_count": 14,
   "id": "481c54e0",
   "metadata": {},
   "outputs": [],
   "source": [
    "# define a to plot a confusion matrix for the model\n",
    "def plot_confusion_matrix(model, test_data):\n",
    "    \n",
    "    # predict the target values using X_test\n",
    "    y_pred = model.predict(test_data)\n",
    "    \n",
    "    # create a confusion matrix\n",
    "    \n",
    "    cm = confusion_matrix(y_test, y_pred)\n",
    "\n",
    "    \n",
    "    conf_matrix = pd.DataFrame(data = cm,columns = ['Predicted:0','Predicted:1'], index = ['Actual:0','Actual:1'])\n",
    "\n",
    "  \n",
    "    sns.heatmap(conf_matrix, annot = True, fmt = 'd', cmap = ListedColormap(['lightskyblue']), cbar = False, \n",
    "                linewidths = 0.1, annot_kws = {'size':25})\n",
    "\n",
    "    # set the font size of x-axis ticks using 'fontsize'\n",
    "    plt.xticks(fontsize = 20)\n",
    "\n",
    "    # set the font size of y-axis ticks using 'fontsize'\n",
    "    plt.yticks(fontsize = 20)\n",
    "\n",
    "    # display the plot\n",
    "    plt.show()"
   ]
  },
  {
   "cell_type": "code",
   "execution_count": 15,
   "id": "8871a452",
   "metadata": {},
   "outputs": [],
   "source": [
    "# define a function to plot the ROC curve and print the ROC-AUC score\n",
    "def plot_roc(model, test_data):\n",
    "    \n",
    "\n",
    "    y_pred_prob = model.predict_proba(test_data)[:,1]\n",
    "    \n",
    "   \n",
    "    fpr, tpr, thresholds = roc_curve(y_test, y_pred_prob)\n",
    "\n",
    "    # plot the ROC curve\n",
    "    plt.plot(fpr, tpr)\n",
    "\n",
    "    # set limits for x and y axes\n",
    "    plt.xlim([0.0, 1.0])\n",
    "    plt.ylim([0.0, 1.0])\n",
    "\n",
    "    # plot the straight line showing worst prediction for the model\n",
    "    plt.plot([0, 1], [0, 1],'r--')\n",
    "\n",
    "    plt.title('ROC curve', fontsize = 15)\n",
    "    plt.xlabel('False positive rate (1-Specificity)', fontsize = 15)\n",
    "    plt.ylabel('True positive rate (Sensitivity)', fontsize = 15)\n",
    "\n",
    "   \n",
    "    plt.text(x = 0.02, y = 0.9, s = ('AUC Score:',round(roc_auc_score(y_test, y_pred_prob),4)))\n",
    "\n",
    "    # plot the grid\n",
    "    plt.grid(True)"
   ]
  },
  {
   "cell_type": "code",
   "execution_count": 16,
   "id": "00aef044",
   "metadata": {},
   "outputs": [],
   "source": [
    "# encoding the target categories\n",
    "df1['loan_status']=df1['loan_status'].map({'Fully Paid':0,'Charged Off':1})"
   ]
  },
  {
   "cell_type": "code",
   "execution_count": 17,
   "id": "16862bb2",
   "metadata": {},
   "outputs": [
    {
     "name": "stdout",
     "output_type": "stream",
     "text": [
      "X_train (277218, 12)\n",
      "y_train (277218,)\n",
      "X_test (118809, 12)\n",
      "y_test (118809,)\n"
     ]
    }
   ],
   "source": [
    "X=df1_scaled.copy()\n",
    "y=df1.loan_status\n",
    "\n",
    "#splitting test train sets with 30:70 ratio respectively\n",
    "\n",
    "X_train, X_test, y_train, y_test = train_test_split(X, y, random_state = 10, test_size = 0.3)\n",
    "\n",
    "# print dimension of train set\n",
    "print('X_train', X_train.shape)\n",
    "print('y_train', y_train.shape)\n",
    "\n",
    "# print dimension of test set\n",
    "print('X_test', X_test.shape)\n",
    "print('y_test', y_test.shape)"
   ]
  },
  {
   "cell_type": "code",
   "execution_count": 21,
   "id": "fa20c1f4",
   "metadata": {},
   "outputs": [
    {
     "name": "stdout",
     "output_type": "stream",
     "text": [
      "Train data:\n",
      "               precision    recall  f1-score   support\n",
      "\n",
      "           0       0.87      0.96      0.91    222746\n",
      "           1       0.72      0.44      0.55     54472\n",
      "\n",
      "    accuracy                           0.86    277218\n",
      "   macro avg       0.80      0.70      0.73    277218\n",
      "weighted avg       0.84      0.86      0.84    277218\n",
      "\n",
      "Test data:\n",
      "               precision    recall  f1-score   support\n",
      "\n",
      "           0       0.82      0.90      0.86     95609\n",
      "           1       0.32      0.19      0.24     23200\n",
      "\n",
      "    accuracy                           0.76    118809\n",
      "   macro avg       0.57      0.55      0.55    118809\n",
      "weighted avg       0.72      0.76      0.74    118809\n",
      "\n"
     ]
    }
   ],
   "source": [
    "# n_neighnors: number of neighbors to consider\n",
    "# default metric is minkowski, and with p=2 it is equivalent to the euclidean metric\n",
    "knn_classification = KNeighborsClassifier(n_neighbors = 3)\n",
    "\n",
    "# fit the model using fit() on train data\n",
    "knn_model = knn_classification.fit(X_train, y_train)\n",
    "\n",
    "\n",
    "# compute the performance measures on train data\n",
    "train_report = get_train_report(knn_model)\n",
    "\n",
    "# print the performance measures\n",
    "print('Train data:\\n', train_report)\n",
    "\n",
    "# compute the performance measures on test data\n",
    "test_report = get_test_report(knn_model)\n",
    "\n",
    "# print the performance measures\n",
    "print('Test data:\\n', test_report)"
   ]
  },
  {
   "cell_type": "code",
   "execution_count": 22,
   "id": "dc9366a6",
   "metadata": {},
   "outputs": [
    {
     "data": {
      "image/png": "[encoded data removed]",
      "text/plain": [
       "<Figure size 1080x576 with 1 Axes>"
      ]
     },
     "metadata": {
      "needs_background": "light"
     },
     "output_type": "display_data"
    }
   ],
   "source": [
    "plot_confusion_matrix(knn_model,X_test)"
   ]
  },
  {
   "cell_type": "code",
   "execution_count": 23,
   "id": "e891e483",
   "metadata": {},
   "outputs": [
    {
     "data": {
      "image/png": "[encoded data removed]",
      "text/plain": [
       "<Figure size 1080x576 with 1 Axes>"
      ]
     },
     "metadata": {
      "needs_background": "light"
     },
     "output_type": "display_data"
    }
   ],
   "source": [
    "plot_roc(knn_model,X_test)"
   ]
  },
  {
   "cell_type": "markdown",
   "id": "2b2dc7c2",
   "metadata": {},
   "source": [
    "## Stack model(randomforest,knn,baysmodel)"
   ]
  },
  {
   "cell_type": "code",
   "execution_count": 25,
   "id": "1f34f5f5",
   "metadata": {},
   "outputs": [
    {
     "data": {
      "text/html": [
       "<style>#sk-container-id-1 {color: black;background-color: white;}#sk-container-id-1 pre{padding: 0;}#sk-container-id-1 div.sk-toggleable {background-color: white;}#sk-container-id-1 label.sk-toggleable__label {cursor: pointer;display: block;width: 100%;margin-bottom: 0;padding: 0.3em;box-sizing: border-box;text-align: center;}#sk-container-id-1 label.sk-toggleable__label-arrow:before {content: \"▸\";float: left;margin-right: 0.25em;color: #696969;}#sk-container-id-1 label.sk-toggleable__label-arrow:hover:before {color: black;}#sk-container-id-1 div.sk-estimator:hover label.sk-toggleable__label-arrow:before {color: black;}#sk-container-id-1 div.sk-toggleable__content {max-height: 0;max-width: 0;overflow: hidden;text-align: left;background-color: #f0f8ff;}#sk-container-id-1 div.sk-toggleable__content pre {margin: 0.2em;color: black;border-radius: 0.25em;background-color: #f0f8ff;}#sk-container-id-1 input.sk-toggleable__control:checked~div.sk-toggleable__content {max-height: 200px;max-width: 100%;overflow: auto;}#sk-container-id-1 input.sk-toggleable__control:checked~label.sk-toggleable__label-arrow:before {content: \"▾\";}#sk-container-id-1 div.sk-estimator input.sk-toggleable__control:checked~label.sk-toggleable__label {background-color: #d4ebff;}#sk-container-id-1 div.sk-label input.sk-toggleable__control:checked~label.sk-toggleable__label {background-color: #d4ebff;}#sk-container-id-1 input.sk-hidden--visually {border: 0;clip: rect(1px 1px 1px 1px);clip: rect(1px, 1px, 1px, 1px);height: 1px;margin: -1px;overflow: hidden;padding: 0;position: absolute;width: 1px;}#sk-container-id-1 div.sk-estimator {font-family: monospace;background-color: #f0f8ff;border: 1px dotted black;border-radius: 0.25em;box-sizing: border-box;margin-bottom: 0.5em;}#sk-container-id-1 div.sk-estimator:hover {background-color: #d4ebff;}#sk-container-id-1 div.sk-parallel-item::after {content: \"\";width: 100%;border-bottom: 1px solid gray;flex-grow: 1;}#sk-container-id-1 div.sk-label:hover label.sk-toggleable__label {background-color: #d4ebff;}#sk-container-id-1 div.sk-serial::before {content: \"\";position: absolute;border-left: 1px solid gray;box-sizing: border-box;top: 0;bottom: 0;left: 50%;z-index: 0;}#sk-container-id-1 div.sk-serial {display: flex;flex-direction: column;align-items: center;background-color: white;padding-right: 0.2em;padding-left: 0.2em;position: relative;}#sk-container-id-1 div.sk-item {position: relative;z-index: 1;}#sk-container-id-1 div.sk-parallel {display: flex;align-items: stretch;justify-content: center;background-color: white;position: relative;}#sk-container-id-1 div.sk-item::before, #sk-container-id-1 div.sk-parallel-item::before {content: \"\";position: absolute;border-left: 1px solid gray;box-sizing: border-box;top: 0;bottom: 0;left: 50%;z-index: -1;}#sk-container-id-1 div.sk-parallel-item {display: flex;flex-direction: column;z-index: 1;position: relative;background-color: white;}#sk-container-id-1 div.sk-parallel-item:first-child::after {align-self: flex-end;width: 50%;}#sk-container-id-1 div.sk-parallel-item:last-child::after {align-self: flex-start;width: 50%;}#sk-container-id-1 div.sk-parallel-item:only-child::after {width: 0;}#sk-container-id-1 div.sk-dashed-wrapped {border: 1px dashed gray;margin: 0 0.4em 0.5em 0.4em;box-sizing: border-box;padding-bottom: 0.4em;background-color: white;}#sk-container-id-1 div.sk-label label {font-family: monospace;font-weight: bold;display: inline-block;line-height: 1.2em;}#sk-container-id-1 div.sk-label-container {text-align: center;}#sk-container-id-1 div.sk-container {/* jupyter's `normalize.less` sets `[hidden] { display: none; }` but bootstrap.min.css set `[hidden] { display: none !important; }` so we also need the `!important` here to be able to override the default hidden behavior on the sphinx rendered scikit-learn.org. See: https://github.com/scikit-learn/scikit-learn/issues/21755 */display: inline-block !important;position: relative;}#sk-container-id-1 div.sk-text-repr-fallback {display: none;}</style><div id=\"sk-container-id-1\" class=\"sk-top-container\"><div class=\"sk-text-repr-fallback\"><pre>StackingClassifier(estimators=[(&#x27;rf_model&#x27;,\n",
       "                                RandomForestClassifier(criterion=&#x27;entropy&#x27;,\n",
       "                                                       max_depth=10,\n",
       "                                                       max_leaf_nodes=8,\n",
       "                                                       min_samples_leaf=5,\n",
       "                                                       n_estimators=50,\n",
       "                                                       random_state=10)),\n",
       "                               (&#x27;KNN_model&#x27;,\n",
       "                                KNeighborsClassifier(metric=&#x27;euclidean&#x27;,\n",
       "                                                     n_neighbors=17)),\n",
       "                               (&#x27;NB_model&#x27;, GaussianNB())],\n",
       "                   final_estimator=GaussianNB())</pre><b>In a Jupyter environment, please rerun this cell to show the HTML representation or trust the notebook. <br />On GitHub, the HTML representation is unable to render, please try loading this page with nbviewer.org.</b></div><div class=\"sk-container\" hidden><div class=\"sk-item sk-dashed-wrapped\"><div class=\"sk-label-container\"><div class=\"sk-label sk-toggleable\"><input class=\"sk-toggleable__control sk-hidden--visually\" id=\"sk-estimator-id-1\" type=\"checkbox\" ><label for=\"sk-estimator-id-1\" class=\"sk-toggleable__label sk-toggleable__label-arrow\">StackingClassifier</label><div class=\"sk-toggleable__content\"><pre>StackingClassifier(estimators=[(&#x27;rf_model&#x27;,\n",
       "                                RandomForestClassifier(criterion=&#x27;entropy&#x27;,\n",
       "                                                       max_depth=10,\n",
       "                                                       max_leaf_nodes=8,\n",
       "                                                       min_samples_leaf=5,\n",
       "                                                       n_estimators=50,\n",
       "                                                       random_state=10)),\n",
       "                               (&#x27;KNN_model&#x27;,\n",
       "                                KNeighborsClassifier(metric=&#x27;euclidean&#x27;,\n",
       "                                                     n_neighbors=17)),\n",
       "                               (&#x27;NB_model&#x27;, GaussianNB())],\n",
       "                   final_estimator=GaussianNB())</pre></div></div></div><div class=\"sk-serial\"><div class=\"sk-item\"><div class=\"sk-parallel\"><div class=\"sk-parallel-item\"><div class=\"sk-item\"><div class=\"sk-label-container\"><div class=\"sk-label sk-toggleable\"><label>rf_model</label></div></div><div class=\"sk-serial\"><div class=\"sk-item\"><div class=\"sk-estimator sk-toggleable\"><input class=\"sk-toggleable__control sk-hidden--visually\" id=\"sk-estimator-id-2\" type=\"checkbox\" ><label for=\"sk-estimator-id-2\" class=\"sk-toggleable__label sk-toggleable__label-arrow\">RandomForestClassifier</label><div class=\"sk-toggleable__content\"><pre>RandomForestClassifier(criterion=&#x27;entropy&#x27;, max_depth=10, max_leaf_nodes=8,\n",
       "                       min_samples_leaf=5, n_estimators=50, random_state=10)</pre></div></div></div></div></div></div><div class=\"sk-parallel-item\"><div class=\"sk-item\"><div class=\"sk-label-container\"><div class=\"sk-label sk-toggleable\"><label>KNN_model</label></div></div><div class=\"sk-serial\"><div class=\"sk-item\"><div class=\"sk-estimator sk-toggleable\"><input class=\"sk-toggleable__control sk-hidden--visually\" id=\"sk-estimator-id-3\" type=\"checkbox\" ><label for=\"sk-estimator-id-3\" class=\"sk-toggleable__label sk-toggleable__label-arrow\">KNeighborsClassifier</label><div class=\"sk-toggleable__content\"><pre>KNeighborsClassifier(metric=&#x27;euclidean&#x27;, n_neighbors=17)</pre></div></div></div></div></div></div><div class=\"sk-parallel-item\"><div class=\"sk-item\"><div class=\"sk-label-container\"><div class=\"sk-label sk-toggleable\"><label>NB_model</label></div></div><div class=\"sk-serial\"><div class=\"sk-item\"><div class=\"sk-estimator sk-toggleable\"><input class=\"sk-toggleable__control sk-hidden--visually\" id=\"sk-estimator-id-4\" type=\"checkbox\" ><label for=\"sk-estimator-id-4\" class=\"sk-toggleable__label sk-toggleable__label-arrow\">GaussianNB</label><div class=\"sk-toggleable__content\"><pre>GaussianNB()</pre></div></div></div></div></div></div></div></div><div class=\"sk-item\"><div class=\"sk-parallel\"><div class=\"sk-parallel-item\"><div class=\"sk-item\"><div class=\"sk-label-container\"><div class=\"sk-label sk-toggleable\"><label>final_estimator</label></div></div><div class=\"sk-serial\"><div class=\"sk-item\"><div class=\"sk-estimator sk-toggleable\"><input class=\"sk-toggleable__control sk-hidden--visually\" id=\"sk-estimator-id-5\" type=\"checkbox\" ><label for=\"sk-estimator-id-5\" class=\"sk-toggleable__label sk-toggleable__label-arrow\">GaussianNB</label><div class=\"sk-toggleable__content\"><pre>GaussianNB()</pre></div></div></div></div></div></div></div></div></div></div></div></div>"
      ],
      "text/plain": [
       "StackingClassifier(estimators=[('rf_model',\n",
       "                                RandomForestClassifier(criterion='entropy',\n",
       "                                                       max_depth=10,\n",
       "                                                       max_leaf_nodes=8,\n",
       "                                                       min_samples_leaf=5,\n",
       "                                                       n_estimators=50,\n",
       "                                                       random_state=10)),\n",
       "                               ('KNN_model',\n",
       "                                KNeighborsClassifier(metric='euclidean',\n",
       "                                                     n_neighbors=17)),\n",
       "                               ('NB_model', GaussianNB())],\n",
       "                   final_estimator=GaussianNB())"
      ]
     },
     "execution_count": 25,
     "metadata": {},
     "output_type": "execute_result"
    }
   ],
   "source": [
    "# consider the various algorithms as base learners\n",
    "base_learners = [('rf_model', RandomForestClassifier(criterion = 'entropy', max_depth = 10, max_features = 'sqrt', \n",
    "                                                     max_leaf_nodes = 8, min_samples_leaf = 5, min_samples_split = 2, \n",
    "                                                     n_estimators = 50, random_state = 10)),\n",
    "                 ('KNN_model', KNeighborsClassifier(n_neighbors = 17, metric = 'euclidean')),\n",
    "                 ('NB_model', GaussianNB())]\n",
    "\n",
    "# initialize stacking classifier \n",
    "# pass the base learners to the parameter, 'estimators'\n",
    "# pass the Naive Bayes model as the 'final_estimator'/ meta model\n",
    "stack_model = StackingClassifier(estimators = base_learners, final_estimator = GaussianNB())\n",
    "\n",
    "# fit the model on train dataset\n",
    "stack_model.fit(X_train, y_train)"
   ]
  },
  {
   "cell_type": "code",
   "execution_count": 27,
   "id": "4de046ee",
   "metadata": {},
   "outputs": [
    {
     "name": "stdout",
     "output_type": "stream",
     "text": [
      "Train data:\n",
      "               precision    recall  f1-score   support\n",
      "\n",
      "           0       0.85      0.89      0.87    222746\n",
      "           1       0.42      0.34      0.38     54472\n",
      "\n",
      "    accuracy                           0.78    277218\n",
      "   macro avg       0.64      0.61      0.62    277218\n",
      "weighted avg       0.76      0.78      0.77    277218\n",
      "\n",
      "Test data:\n",
      "               precision    recall  f1-score   support\n",
      "\n",
      "           0       0.84      0.88      0.86     95609\n",
      "           1       0.38      0.31      0.34     23200\n",
      "\n",
      "    accuracy                           0.77    118809\n",
      "   macro avg       0.61      0.59      0.60    118809\n",
      "weighted avg       0.75      0.77      0.76    118809\n",
      "\n"
     ]
    }
   ],
   "source": [
    "# compute the performance measures on train data\n",
    "train_report = get_train_report(stack_model)\n",
    "\n",
    "# print the performance measures\n",
    "print('Train data:\\n', train_report)\n",
    "\n",
    "# compute the performance measures on test data\n",
    "test_report = get_test_report(stack_model)\n",
    "\n",
    "# print the performance measures\n",
    "print('Test data:\\n', test_report)"
   ]
  },
  {
   "cell_type": "code",
   "execution_count": 26,
   "id": "8792e263",
   "metadata": {},
   "outputs": [
    {
     "data": {
      "image/png": "[encoded data removed]",
      "text/plain": [
       "<Figure size 1080x576 with 1 Axes>"
      ]
     },
     "metadata": {
      "needs_background": "light"
     },
     "output_type": "display_data"
    }
   ],
   "source": [
    "plot_confusion_matrix(stack_model,X_test)"
   ]
  },
  {
   "cell_type": "code",
   "execution_count": 132,
   "id": "022fb851",
   "metadata": {},
   "outputs": [
    {
     "data": {
      "image/png": "[encoded data removed]",
      "text/plain": [
       "<Figure size 1080x576 with 1 Axes>"
      ]
     },
     "metadata": {
      "needs_background": "light"
     },
     "output_type": "display_data"
    }
   ],
   "source": [
    "plot_roc(stack_model,X_test)"
   ]
  },
  {
   "cell_type": "markdown",
   "id": "719483cb",
   "metadata": {},
   "source": [
    "## PCA"
   ]
  },
  {
   "cell_type": "code",
   "execution_count": 42,
   "id": "fb9433b8",
   "metadata": {},
   "outputs": [],
   "source": [
    "from sklearn.decomposition import PCA"
   ]
  },
  {
   "cell_type": "code",
   "execution_count": 30,
   "id": "1e7f1e46",
   "metadata": {},
   "outputs": [
    {
     "data": {
      "text/html": [
       "<div>\n",
       "<style scoped>\n",
       "    .dataframe tbody tr th:only-of-type {\n",
       "        vertical-align: middle;\n",
       "    }\n",
       "\n",
       "    .dataframe tbody tr th {\n",
       "        vertical-align: top;\n",
       "    }\n",
       "\n",
       "    .dataframe thead th {\n",
       "        text-align: right;\n",
       "    }\n",
       "</style>\n",
       "<table border=\"1\" class=\"dataframe\">\n",
       "  <thead>\n",
       "    <tr style=\"text-align: right;\">\n",
       "      <th></th>\n",
       "      <th>loan_amnt</th>\n",
       "      <th>int_rate</th>\n",
       "      <th>installment</th>\n",
       "      <th>annual_inc</th>\n",
       "      <th>dti</th>\n",
       "      <th>open_acc</th>\n",
       "      <th>pub_rec</th>\n",
       "      <th>revol_bal</th>\n",
       "      <th>revol_util</th>\n",
       "      <th>total_acc</th>\n",
       "      <th>mort_acc</th>\n",
       "      <th>pub_rec_bankruptcies</th>\n",
       "    </tr>\n",
       "  </thead>\n",
       "  <tbody>\n",
       "    <tr>\n",
       "      <th>0</th>\n",
       "      <td>-0.492242</td>\n",
       "      <td>-0.491799</td>\n",
       "      <td>-0.408290</td>\n",
       "      <td>0.694323</td>\n",
       "      <td>1.092107</td>\n",
       "      <td>0.912659</td>\n",
       "      <td>-0.335786</td>\n",
       "      <td>0.996727</td>\n",
       "      <td>-0.490616</td>\n",
       "      <td>-0.034885</td>\n",
       "      <td>-0.844169</td>\n",
       "      <td>-0.341284</td>\n",
       "    </tr>\n",
       "    <tr>\n",
       "      <th>1</th>\n",
       "      <td>-0.731550</td>\n",
       "      <td>-0.368816</td>\n",
       "      <td>-0.662750</td>\n",
       "      <td>-0.149320</td>\n",
       "      <td>0.577418</td>\n",
       "      <td>1.107302</td>\n",
       "      <td>-0.335786</td>\n",
       "      <td>0.208163</td>\n",
       "      <td>-0.020148</td>\n",
       "      <td>0.133368</td>\n",
       "      <td>0.614391</td>\n",
       "      <td>-0.341284</td>\n",
       "    </tr>\n",
       "    <tr>\n",
       "      <th>2</th>\n",
       "      <td>0.177821</td>\n",
       "      <td>-0.704225</td>\n",
       "      <td>0.299610</td>\n",
       "      <td>-0.505321</td>\n",
       "      <td>-0.560058</td>\n",
       "      <td>0.328730</td>\n",
       "      <td>-0.335786</td>\n",
       "      <td>-0.187332</td>\n",
       "      <td>1.571263</td>\n",
       "      <td>0.049241</td>\n",
       "      <td>-0.844169</td>\n",
       "      <td>-0.341284</td>\n",
       "    </tr>\n",
       "    <tr>\n",
       "      <th>3</th>\n",
       "      <td>-0.827273</td>\n",
       "      <td>-1.598647</td>\n",
       "      <td>-0.842347</td>\n",
       "      <td>-0.327783</td>\n",
       "      <td>-1.811773</td>\n",
       "      <td>-1.033772</td>\n",
       "      <td>-0.335786</td>\n",
       "      <td>-0.503719</td>\n",
       "      <td>-1.321095</td>\n",
       "      <td>-1.044402</td>\n",
       "      <td>-0.844169</td>\n",
       "      <td>-0.341284</td>\n",
       "    </tr>\n",
       "    <tr>\n",
       "      <th>4</th>\n",
       "      <td>1.227785</td>\n",
       "      <td>0.811821</td>\n",
       "      <td>0.707862</td>\n",
       "      <td>-0.311559</td>\n",
       "      <td>2.039185</td>\n",
       "      <td>0.328730</td>\n",
       "      <td>-0.335786</td>\n",
       "      <td>0.424414</td>\n",
       "      <td>0.654872</td>\n",
       "      <td>1.479390</td>\n",
       "      <td>-0.357982</td>\n",
       "      <td>-0.341284</td>\n",
       "    </tr>\n",
       "  </tbody>\n",
       "</table>\n",
       "</div>"
      ],
      "text/plain": [
       "   loan_amnt  int_rate  installment  annual_inc       dti  open_acc   pub_rec  \\\n",
       "0  -0.492242 -0.491799    -0.408290    0.694323  1.092107  0.912659 -0.335786   \n",
       "1  -0.731550 -0.368816    -0.662750   -0.149320  0.577418  1.107302 -0.335786   \n",
       "2   0.177821 -0.704225     0.299610   -0.505321 -0.560058  0.328730 -0.335786   \n",
       "3  -0.827273 -1.598647    -0.842347   -0.327783 -1.811773 -1.033772 -0.335786   \n",
       "4   1.227785  0.811821     0.707862   -0.311559  2.039185  0.328730 -0.335786   \n",
       "\n",
       "   revol_bal  revol_util  total_acc  mort_acc  pub_rec_bankruptcies  \n",
       "0   0.996727   -0.490616  -0.034885 -0.844169             -0.341284  \n",
       "1   0.208163   -0.020148   0.133368  0.614391             -0.341284  \n",
       "2  -0.187332    1.571263   0.049241 -0.844169             -0.341284  \n",
       "3  -0.503719   -1.321095  -1.044402 -0.844169             -0.341284  \n",
       "4   0.424414    0.654872   1.479390 -0.357982             -0.341284  "
      ]
     },
     "execution_count": 30,
     "metadata": {},
     "output_type": "execute_result"
    }
   ],
   "source": [
    "df1_scaled.head()"
   ]
  },
  {
   "cell_type": "code",
   "execution_count": 31,
   "id": "cf82e8d1",
   "metadata": {},
   "outputs": [],
   "source": [
    "# getting the power transformed values from the library\n",
    "from sklearn.preprocessing import PowerTransformer"
   ]
  },
  {
   "cell_type": "code",
   "execution_count": 34,
   "id": "0f667b20",
   "metadata": {},
   "outputs": [
    {
     "data": {
      "text/html": [
       "<div>\n",
       "<style scoped>\n",
       "    .dataframe tbody tr th:only-of-type {\n",
       "        vertical-align: middle;\n",
       "    }\n",
       "\n",
       "    .dataframe tbody tr th {\n",
       "        vertical-align: top;\n",
       "    }\n",
       "\n",
       "    .dataframe thead th {\n",
       "        text-align: right;\n",
       "    }\n",
       "</style>\n",
       "<table border=\"1\" class=\"dataframe\">\n",
       "  <thead>\n",
       "    <tr style=\"text-align: right;\">\n",
       "      <th></th>\n",
       "      <th>loan_amnt</th>\n",
       "      <th>int_rate</th>\n",
       "      <th>installment</th>\n",
       "      <th>annual_inc</th>\n",
       "      <th>dti</th>\n",
       "      <th>open_acc</th>\n",
       "      <th>pub_rec</th>\n",
       "      <th>revol_bal</th>\n",
       "      <th>revol_util</th>\n",
       "      <th>total_acc</th>\n",
       "      <th>mort_acc</th>\n",
       "      <th>pub_rec_bankruptcies</th>\n",
       "    </tr>\n",
       "  </thead>\n",
       "  <tbody>\n",
       "    <tr>\n",
       "      <th>0</th>\n",
       "      <td>-0.381812</td>\n",
       "      <td>-0.436277</td>\n",
       "      <td>-0.269782</td>\n",
       "      <td>1.203812</td>\n",
       "      <td>1.085005</td>\n",
       "      <td>1.006194</td>\n",
       "      <td>-0.413213</td>\n",
       "      <td>1.498846</td>\n",
       "      <td>-0.517109</td>\n",
       "      <td>0.128237</td>\n",
       "      <td>-1.134147</td>\n",
       "      <td>-0.358560</td>\n",
       "    </tr>\n",
       "    <tr>\n",
       "      <th>1</th>\n",
       "      <td>-0.715706</td>\n",
       "      <td>-0.299890</td>\n",
       "      <td>-0.628725</td>\n",
       "      <td>0.059024</td>\n",
       "      <td>0.618897</td>\n",
       "      <td>1.146044</td>\n",
       "      <td>-0.413213</td>\n",
       "      <td>0.791436</td>\n",
       "      <td>-0.056077</td>\n",
       "      <td>0.300632</td>\n",
       "      <td>0.969087</td>\n",
       "      <td>-0.358560</td>\n",
       "    </tr>\n",
       "    <tr>\n",
       "      <th>2</th>\n",
       "      <td>0.387551</td>\n",
       "      <td>-0.678543</td>\n",
       "      <td>0.519599</td>\n",
       "      <td>-0.834234</td>\n",
       "      <td>-0.525380</td>\n",
       "      <td>0.528310</td>\n",
       "      <td>-0.413213</td>\n",
       "      <td>0.065619</td>\n",
       "      <td>1.627022</td>\n",
       "      <td>0.216055</td>\n",
       "      <td>-1.134147</td>\n",
       "      <td>-0.358560</td>\n",
       "    </tr>\n",
       "    <tr>\n",
       "      <th>3</th>\n",
       "      <td>-0.857209</td>\n",
       "      <td>-1.777018</td>\n",
       "      <td>-0.904206</td>\n",
       "      <td>-0.350707</td>\n",
       "      <td>-1.965741</td>\n",
       "      <td>-1.212503</td>\n",
       "      <td>-0.413213</td>\n",
       "      <td>-0.873994</td>\n",
       "      <td>-1.297846</td>\n",
       "      <td>-1.160435</td>\n",
       "      <td>-1.134147</td>\n",
       "      <td>-0.358560</td>\n",
       "    </tr>\n",
       "    <tr>\n",
       "      <th>4</th>\n",
       "      <td>1.213723</td>\n",
       "      <td>0.847604</td>\n",
       "      <td>0.859991</td>\n",
       "      <td>-0.310339</td>\n",
       "      <td>1.894382</td>\n",
       "      <td>0.528310</td>\n",
       "      <td>-0.413213</td>\n",
       "      <td>1.047629</td>\n",
       "      <td>0.638371</td>\n",
       "      <td>1.386817</td>\n",
       "      <td>-0.117426</td>\n",
       "      <td>-0.358560</td>\n",
       "    </tr>\n",
       "  </tbody>\n",
       "</table>\n",
       "</div>"
      ],
      "text/plain": [
       "   loan_amnt  int_rate  installment  annual_inc       dti  open_acc   pub_rec  \\\n",
       "0  -0.381812 -0.436277    -0.269782    1.203812  1.085005  1.006194 -0.413213   \n",
       "1  -0.715706 -0.299890    -0.628725    0.059024  0.618897  1.146044 -0.413213   \n",
       "2   0.387551 -0.678543     0.519599   -0.834234 -0.525380  0.528310 -0.413213   \n",
       "3  -0.857209 -1.777018    -0.904206   -0.350707 -1.965741 -1.212503 -0.413213   \n",
       "4   1.213723  0.847604     0.859991   -0.310339  1.894382  0.528310 -0.413213   \n",
       "\n",
       "   revol_bal  revol_util  total_acc  mort_acc  pub_rec_bankruptcies  \n",
       "0   1.498846   -0.517109   0.128237 -1.134147             -0.358560  \n",
       "1   0.791436   -0.056077   0.300632  0.969087             -0.358560  \n",
       "2   0.065619    1.627022   0.216055 -1.134147             -0.358560  \n",
       "3  -0.873994   -1.297846  -1.160435 -1.134147             -0.358560  \n",
       "4   1.047629    0.638371   1.386817 -0.117426             -0.358560  "
      ]
     },
     "execution_count": 34,
     "metadata": {},
     "output_type": "execute_result"
    }
   ],
   "source": [
    "# power transforming for PCA\n",
    "pt=PowerTransformer()\n",
    "a=pt.fit_transform(df1_scaled)\n",
    "df1_scaledpt=pd.DataFrame(a,columns=df1_scaled.columns)\n",
    "df1_scaledpt.head()"
   ]
  },
  {
   "cell_type": "code",
   "execution_count": 35,
   "id": "b6f586a2",
   "metadata": {},
   "outputs": [
    {
     "name": "stdout",
     "output_type": "stream",
     "text": [
      "[[ 1.00000253  0.13936257  0.96910593  0.5018498   0.05223086  0.21870477\n",
      "  -0.09900777  0.4639557   0.10226413  0.24139045  0.22403103 -0.10655967]\n",
      " [ 0.13936257  1.00000253  0.14384012 -0.09489867  0.17823321  0.0034704\n",
      "   0.07480107  0.00648795  0.30717909 -0.0507804  -0.09459785  0.06370066]\n",
      " [ 0.96910593  0.14384012  1.00000253  0.4841564   0.05421021  0.211269\n",
      "  -0.08988377  0.45256282  0.12816618  0.2211682   0.19595861 -0.09896606]\n",
      " [ 0.5018498  -0.09489867  0.4841564   1.00000253 -0.20637018  0.24639184\n",
      "  -0.04666509  0.40475878  0.05783572  0.34046599  0.35973855 -0.07152085]\n",
      " [ 0.05223086  0.17823321  0.05421021 -0.20637018  1.00000253  0.33505924\n",
      "  -0.03898197  0.25832891  0.19869017  0.24760413 -0.03952779 -0.0301424 ]]\n"
     ]
    }
   ],
   "source": [
    "# getting the covariant matrix\n",
    "cov_mat = np.cov(df1_scaledpt.T)\n",
    "\n",
    "# as 'cov_mat' is a numpy array, select first five observations with [0:5]\n",
    "print(cov_mat[0:5])"
   ]
  },
  {
   "cell_type": "code",
   "execution_count": 36,
   "id": "c349f3a1",
   "metadata": {},
   "outputs": [
    {
     "name": "stdout",
     "output_type": "stream",
     "text": [
      "Eigenvalues: \n",
      " \n",
      " [3.3476686  1.96188845 1.55936779 1.59292318 1.01503145 0.76756444\n",
      " 0.65888776 0.02952764 0.37228535 0.33974577 0.22397588 0.13116398] \n",
      "\n",
      "Eigenvectors: \n",
      " \n",
      " [[ 0.44375622  0.01982864 -0.30147696 -0.13572363 -0.33360639 -0.06798858\n",
      "   0.21409431 -0.7148732   0.08190667  0.11490756  0.02579832  0.0020587 ]\n",
      " [ 0.04092921  0.04143369  0.06413516 -0.55932517 -0.2024601   0.70184199\n",
      "  -0.24625878  0.01377042  0.00153665 -0.25508819 -0.14168489  0.009892  ]\n",
      " [ 0.43619055  0.02507392 -0.303469   -0.15722781 -0.34009802 -0.08941762\n",
      "   0.20460789  0.69696044  0.09091544  0.16018953  0.08396153 -0.00623101]\n",
      " [ 0.36644485 -0.0874571  -0.30626704  0.17424717  0.17367349  0.00865924\n",
      "  -0.4159804   0.01074382 -0.71083678 -0.14859722  0.03540854  0.04349076]\n",
      " [ 0.12246784  0.00262943  0.58501803 -0.27938332 -0.08498421 -0.17550203\n",
      "   0.476357    0.00404523 -0.53877359 -0.09702656 -0.00230233  0.00644362]\n",
      " [ 0.30381855 -0.22732345  0.45352308  0.16196355 -0.19102316 -0.0107638\n",
      "  -0.33224903 -0.02069345  0.23838039 -0.13610846  0.63246902  0.03621931]\n",
      " [-0.12337657 -0.60500904 -0.12980162 -0.27105535  0.04341351 -0.1572562\n",
      "  -0.02416133 -0.00908304 -0.0084582  -0.04755705  0.03509641 -0.70539162]\n",
      " [ 0.40401018  0.11447272  0.10939682 -0.12907109  0.31732997 -0.36215417\n",
      "  -0.11261     0.02612801  0.34134986 -0.51784444 -0.40561297 -0.02495298]\n",
      " [ 0.12043156  0.24025879  0.03647703 -0.50794285  0.53815965 -0.09205891\n",
      "  -0.17190952 -0.03648567  0.0330624   0.50018069  0.296956    0.00199775]\n",
      " [ 0.32193377 -0.30786399  0.34253041  0.22102182  0.02117369  0.19896431\n",
      "  -0.12862455  0.01238994  0.05025165  0.54800318 -0.52346818 -0.04261603]\n",
      " [ 0.23841714 -0.20185639 -0.09877346  0.19817558  0.51223058  0.48203318\n",
      "   0.53091922  0.01420017  0.1024693  -0.158013    0.20272798 -0.00133893]\n",
      " [-0.1269774  -0.60459846 -0.11809378 -0.27037763  0.05610731 -0.16584714\n",
      "   0.00857891  0.00113414  0.04384776 -0.01280375 -0.04336012  0.70469312]] \n",
      "\n"
     ]
    }
   ],
   "source": [
    "# use 'eig' function to compute eigenvalues and eigenvectors of the covariance matrix\n",
    "eig_val, eig_vec = np.linalg.eig(cov_mat)\n",
    "\n",
    "print('Eigenvalues:','\\n','\\n', eig_val,\"\\n\")\n",
    "\n",
    "print('Eigenvectors:','\\n','\\n',eig_vec,'\\n')"
   ]
  },
  {
   "cell_type": "code",
   "execution_count": 37,
   "id": "7d00ee02",
   "metadata": {},
   "outputs": [
    {
     "name": "stdout",
     "output_type": "stream",
     "text": [
      "[3.3476686018357267, 1.9618884536268768, 1.592923180248227, 1.5593677932235606, 1.015031448147944, 0.767564442156253, 0.6588877621931547, 0.3722853521783741, 0.33974576753981567, 0.22397587971801103, 0.13116397814924996, 0.029527642023641804]\n"
     ]
    }
   ],
   "source": [
    "# create a list of eigenvalues\n",
    "eig_val = list(eig_val)\n",
    "\n",
    "# 'sort(reverse = True)' will sort the eigenvalues in the descending order\n",
    "eig_val.sort(reverse = True)\n",
    "\n",
    "# print the sorted list\n",
    "print(eig_val)"
   ]
  },
  {
   "cell_type": "code",
   "execution_count": 39,
   "id": "30266557",
   "metadata": {},
   "outputs": [
    {
     "data": {
      "image/png": "[encoded data removed]",
      "text/plain": [
       "<Figure size 1080x576 with 1 Axes>"
      ]
     },
     "metadata": {
      "needs_background": "light"
     },
     "output_type": "display_data"
    }
   ],
   "source": [
    "# 'bp' represents blue color and pentagonal shape of points\n",
    "plt.plot(eig_val,'bp')            \n",
    "\n",
    "# plot a line plot\n",
    "plt.plot(eig_val) \n",
    "\n",
    "# set the axes and plot labels\n",
    "# set the fontsize using 'fontsize'\n",
    "plt.title('Scree Plot', fontsize = 15)\n",
    "plt.xlabel('Principal Components', fontsize = 15)    \n",
    "plt.ylabel('Explained Variance', fontsize = 15)      \n",
    "\n",
    "# display the plot\n",
    "plt.show()   "
   ]
  },
  {
   "cell_type": "markdown",
   "id": "f1598d56",
   "metadata": {},
   "source": [
    "`Elbow point`=4"
   ]
  },
  {
   "cell_type": "markdown",
   "id": "e102315d",
   "metadata": {},
   "source": [
    "**Interpretation**: It can be observed that, after the elbow point, the principal components do not contribute much to the variance in the data. "
   ]
  },
  {
   "cell_type": "code",
   "execution_count": 40,
   "id": "665060f4",
   "metadata": {},
   "outputs": [
    {
     "data": {
      "text/plain": [
       "[27.897167905862403,\n",
       " 16.34902916417395,\n",
       " 13.274326316576579,\n",
       " 12.994698797454765,\n",
       " 8.458574042599745,\n",
       " 6.396354199952958,\n",
       " 5.4907174870717235,\n",
       " 3.1023701010661915,\n",
       " 2.8312075804537553,\n",
       " 1.8664609513409667,\n",
       " 1.0930303912472066,\n",
       " 0.24606306219977372]"
      ]
     },
     "execution_count": 40,
     "metadata": {},
     "output_type": "execute_result"
    }
   ],
   "source": [
    "# calculate the percentage of variation explained by each principal component\n",
    "# create an empty list to store the percentage of variation explained by each principal component\n",
    "percent_var = []\n",
    "\n",
    "# use a 'for' loop to calculate the percentage of variation for each component\n",
    "for i in eig_val:\n",
    "    variation = (i/sum(eig_val))*100\n",
    "    \n",
    "    # add the values to the list 'percent_var'\n",
    "    percent_var.append(variation)\n",
    "    \n",
    "# print the percentage of variation\n",
    "percent_var"
   ]
  },
  {
   "cell_type": "markdown",
   "id": "9a33bf46",
   "metadata": {},
   "source": [
    "Interpretation: It can be seen that the first principal component explains 27.89% variation in the data."
   ]
  },
  {
   "cell_type": "code",
   "execution_count": 41,
   "id": "1dd0959a",
   "metadata": {},
   "outputs": [
    {
     "data": {
      "text/plain": [
       "array([ 27.89716791,  44.24619707,  57.52052339,  70.51522218,\n",
       "        78.97379623,  85.37015043,  90.86086791,  93.96323801,\n",
       "        96.7944456 ,  98.66090655,  99.75393694, 100.        ])"
      ]
     },
     "execution_count": 41,
     "metadata": {},
     "output_type": "execute_result"
    }
   ],
   "source": [
    "# the 'cumsum()' returns the cumulative sum \n",
    "np.cumsum(percent_var)"
   ]
  },
  {
   "cell_type": "markdown",
   "id": "ff69ba76",
   "metadata": {},
   "source": [
    "**Interpretation**: We can see that the first 3 components explain approximately 57.52% of the variation in the data. By considering the 4 components as per the scree plot, the components explain approximately 70.5% of the variation. To explain 96.75% of the variation in the data, we need to consider 9 principal components.<br>\n",
    "For this dataset, let us choose the `7` principal components that explain 90.86% of the variation."
   ]
  },
  {
   "cell_type": "code",
   "execution_count": 47,
   "id": "57ee4272",
   "metadata": {},
   "outputs": [
    {
     "data": {
      "text/html": [
       "<div>\n",
       "<style scoped>\n",
       "    .dataframe tbody tr th:only-of-type {\n",
       "        vertical-align: middle;\n",
       "    }\n",
       "\n",
       "    .dataframe tbody tr th {\n",
       "        vertical-align: top;\n",
       "    }\n",
       "\n",
       "    .dataframe thead th {\n",
       "        text-align: right;\n",
       "    }\n",
       "</style>\n",
       "<table border=\"1\" class=\"dataframe\">\n",
       "  <thead>\n",
       "    <tr style=\"text-align: right;\">\n",
       "      <th></th>\n",
       "      <th>PC1</th>\n",
       "      <th>PC2</th>\n",
       "      <th>PC3</th>\n",
       "      <th>PC4</th>\n",
       "      <th>PC5</th>\n",
       "      <th>PC6</th>\n",
       "      <th>PC7</th>\n",
       "    </tr>\n",
       "  </thead>\n",
       "  <tbody>\n",
       "    <tr>\n",
       "      <th>0</th>\n",
       "      <td>0.985411</td>\n",
       "      <td>0.340003</td>\n",
       "      <td>-0.489591</td>\n",
       "      <td>1.288424</td>\n",
       "      <td>-0.186833</td>\n",
       "      <td>1.338887</td>\n",
       "      <td>-1.039342</td>\n",
       "    </tr>\n",
       "    <tr>\n",
       "      <th>1</th>\n",
       "      <td>0.578831</td>\n",
       "      <td>-0.050702</td>\n",
       "      <td>-0.780498</td>\n",
       "      <td>1.438851</td>\n",
       "      <td>0.937714</td>\n",
       "      <td>-0.143896</td>\n",
       "      <td>0.084733</td>\n",
       "    </tr>\n",
       "    <tr>\n",
       "      <th>2</th>\n",
       "      <td>0.279439</td>\n",
       "      <td>0.971699</td>\n",
       "      <td>0.470743</td>\n",
       "      <td>0.218240</td>\n",
       "      <td>-0.087787</td>\n",
       "      <td>1.022555</td>\n",
       "      <td>-0.632503</td>\n",
       "    </tr>\n",
       "    <tr>\n",
       "      <th>3</th>\n",
       "      <td>-2.642043</td>\n",
       "      <td>0.828942</td>\n",
       "      <td>-2.043893</td>\n",
       "      <td>-1.506059</td>\n",
       "      <td>-0.328336</td>\n",
       "      <td>0.970184</td>\n",
       "      <td>-0.443019</td>\n",
       "    </tr>\n",
       "    <tr>\n",
       "      <th>4</th>\n",
       "      <td>2.242307</td>\n",
       "      <td>0.329608</td>\n",
       "      <td>1.239078</td>\n",
       "      <td>1.590864</td>\n",
       "      <td>-0.577655</td>\n",
       "      <td>-0.000224</td>\n",
       "      <td>0.621518</td>\n",
       "    </tr>\n",
       "  </tbody>\n",
       "</table>\n",
       "</div>"
      ],
      "text/plain": [
       "        PC1       PC2       PC3       PC4       PC5       PC6       PC7\n",
       "0  0.985411  0.340003 -0.489591  1.288424 -0.186833  1.338887 -1.039342\n",
       "1  0.578831 -0.050702 -0.780498  1.438851  0.937714 -0.143896  0.084733\n",
       "2  0.279439  0.971699  0.470743  0.218240 -0.087787  1.022555 -0.632503\n",
       "3 -2.642043  0.828942 -2.043893 -1.506059 -0.328336  0.970184 -0.443019\n",
       "4  2.242307  0.329608  1.239078  1.590864 -0.577655 -0.000224  0.621518"
      ]
     },
     "execution_count": 47,
     "metadata": {},
     "output_type": "execute_result"
    }
   ],
   "source": [
    "# specify the required no of components to the parameter 'n_components'\n",
    "# pass the 'random_state' to get the same output for multiple runs\n",
    "pca = PCA(n_components = 7, random_state = 10)\n",
    "\n",
    "# the 'fit_transform()' fits the PCA on the data transforms the data to compute the principal components \n",
    "# pass the standardized data to fit PCA\n",
    "components = pca.fit_transform(df1_scaledpt)\n",
    "\n",
    "# create a dataframe of principal components\n",
    "# pass the required column names to the parameter 'columns'\n",
    "df_pca = pd.DataFrame(data = components, columns = ['PC{}'.format(i) for i in range(1,8)])\n",
    "\n",
    "# head() to display top five rows of the transformed data\n",
    "df_pca.head()"
   ]
  },
  {
   "cell_type": "code",
   "execution_count": 100,
   "id": "c3fb6b87",
   "metadata": {},
   "outputs": [],
   "source": [
    "df1_cat=df1.select_dtypes(include=object)\n",
    "df1_cat.reset_index(inplace=True,drop=True)"
   ]
  },
  {
   "cell_type": "code",
   "execution_count": 101,
   "id": "b928aacc",
   "metadata": {},
   "outputs": [
    {
     "data": {
      "text/html": [
       "<div>\n",
       "<style scoped>\n",
       "    .dataframe tbody tr th:only-of-type {\n",
       "        vertical-align: middle;\n",
       "    }\n",
       "\n",
       "    .dataframe tbody tr th {\n",
       "        vertical-align: top;\n",
       "    }\n",
       "\n",
       "    .dataframe thead th {\n",
       "        text-align: right;\n",
       "    }\n",
       "</style>\n",
       "<table border=\"1\" class=\"dataframe\">\n",
       "  <thead>\n",
       "    <tr style=\"text-align: right;\">\n",
       "      <th></th>\n",
       "      <th>verification_status_Source Verified</th>\n",
       "      <th>verification_status_Verified</th>\n",
       "      <th>application_type_INDIVIDUAL</th>\n",
       "      <th>application_type_JOINT</th>\n",
       "      <th>term_ 60 months</th>\n",
       "    </tr>\n",
       "  </thead>\n",
       "  <tbody>\n",
       "    <tr>\n",
       "      <th>0</th>\n",
       "      <td>0</td>\n",
       "      <td>0</td>\n",
       "      <td>1</td>\n",
       "      <td>0</td>\n",
       "      <td>0</td>\n",
       "    </tr>\n",
       "    <tr>\n",
       "      <th>1</th>\n",
       "      <td>0</td>\n",
       "      <td>0</td>\n",
       "      <td>1</td>\n",
       "      <td>0</td>\n",
       "      <td>0</td>\n",
       "    </tr>\n",
       "    <tr>\n",
       "      <th>2</th>\n",
       "      <td>1</td>\n",
       "      <td>0</td>\n",
       "      <td>1</td>\n",
       "      <td>0</td>\n",
       "      <td>0</td>\n",
       "    </tr>\n",
       "    <tr>\n",
       "      <th>3</th>\n",
       "      <td>0</td>\n",
       "      <td>0</td>\n",
       "      <td>1</td>\n",
       "      <td>0</td>\n",
       "      <td>0</td>\n",
       "    </tr>\n",
       "    <tr>\n",
       "      <th>4</th>\n",
       "      <td>0</td>\n",
       "      <td>1</td>\n",
       "      <td>1</td>\n",
       "      <td>0</td>\n",
       "      <td>1</td>\n",
       "    </tr>\n",
       "  </tbody>\n",
       "</table>\n",
       "</div>"
      ],
      "text/plain": [
       "   verification_status_Source Verified  verification_status_Verified  \\\n",
       "0                                    0                             0   \n",
       "1                                    0                             0   \n",
       "2                                    1                             0   \n",
       "3                                    0                             0   \n",
       "4                                    0                             1   \n",
       "\n",
       "   application_type_INDIVIDUAL  application_type_JOINT  term_ 60 months  \n",
       "0                            1                       0                0  \n",
       "1                            1                       0                0  \n",
       "2                            1                       0                0  \n",
       "3                            1                       0                0  \n",
       "4                            1                       0                1  "
      ]
     },
     "execution_count": 101,
     "metadata": {},
     "output_type": "execute_result"
    }
   ],
   "source": [
    "dum=df1_cat.loc[:,['verification_status','application_type','term']]\n",
    "dummy=pd.get_dummies(dum,drop_first=True)\n",
    "dummy.head()"
   ]
  },
  {
   "cell_type": "code",
   "execution_count": 102,
   "id": "cf763659",
   "metadata": {},
   "outputs": [],
   "source": [
    "df1_cat.drop(columns=['verification_status','application_type','term'],inplace=True)\n"
   ]
  },
  {
   "cell_type": "code",
   "execution_count": 103,
   "id": "87922ed5",
   "metadata": {},
   "outputs": [
    {
     "data": {
      "text/html": [
       "<div>\n",
       "<style scoped>\n",
       "    .dataframe tbody tr th:only-of-type {\n",
       "        vertical-align: middle;\n",
       "    }\n",
       "\n",
       "    .dataframe tbody tr th {\n",
       "        vertical-align: top;\n",
       "    }\n",
       "\n",
       "    .dataframe thead th {\n",
       "        text-align: right;\n",
       "    }\n",
       "</style>\n",
       "<table border=\"1\" class=\"dataframe\">\n",
       "  <thead>\n",
       "    <tr style=\"text-align: right;\">\n",
       "      <th></th>\n",
       "      <th>grade</th>\n",
       "      <th>emp_length</th>\n",
       "      <th>home_ownership</th>\n",
       "      <th>purpose</th>\n",
       "      <th>verification_status_Source Verified</th>\n",
       "      <th>verification_status_Verified</th>\n",
       "      <th>application_type_INDIVIDUAL</th>\n",
       "      <th>application_type_JOINT</th>\n",
       "      <th>term_ 60 months</th>\n",
       "      <th>PC1</th>\n",
       "      <th>PC2</th>\n",
       "      <th>PC3</th>\n",
       "      <th>PC4</th>\n",
       "      <th>PC5</th>\n",
       "      <th>PC6</th>\n",
       "      <th>PC7</th>\n",
       "    </tr>\n",
       "  </thead>\n",
       "  <tbody>\n",
       "    <tr>\n",
       "      <th>0</th>\n",
       "      <td>B</td>\n",
       "      <td>10+ years</td>\n",
       "      <td>RENT</td>\n",
       "      <td>vacation</td>\n",
       "      <td>0</td>\n",
       "      <td>0</td>\n",
       "      <td>1</td>\n",
       "      <td>0</td>\n",
       "      <td>0</td>\n",
       "      <td>0.985411</td>\n",
       "      <td>0.340003</td>\n",
       "      <td>-0.489591</td>\n",
       "      <td>1.288424</td>\n",
       "      <td>-0.186833</td>\n",
       "      <td>1.338887</td>\n",
       "      <td>-1.039342</td>\n",
       "    </tr>\n",
       "    <tr>\n",
       "      <th>1</th>\n",
       "      <td>B</td>\n",
       "      <td>4 years</td>\n",
       "      <td>MORTGAGE</td>\n",
       "      <td>debt_consolidation</td>\n",
       "      <td>0</td>\n",
       "      <td>0</td>\n",
       "      <td>1</td>\n",
       "      <td>0</td>\n",
       "      <td>0</td>\n",
       "      <td>0.578831</td>\n",
       "      <td>-0.050702</td>\n",
       "      <td>-0.780498</td>\n",
       "      <td>1.438851</td>\n",
       "      <td>0.937714</td>\n",
       "      <td>-0.143896</td>\n",
       "      <td>0.084733</td>\n",
       "    </tr>\n",
       "    <tr>\n",
       "      <th>2</th>\n",
       "      <td>B</td>\n",
       "      <td>&lt; 1 year</td>\n",
       "      <td>RENT</td>\n",
       "      <td>credit_card</td>\n",
       "      <td>1</td>\n",
       "      <td>0</td>\n",
       "      <td>1</td>\n",
       "      <td>0</td>\n",
       "      <td>0</td>\n",
       "      <td>0.279439</td>\n",
       "      <td>0.971699</td>\n",
       "      <td>0.470743</td>\n",
       "      <td>0.218240</td>\n",
       "      <td>-0.087787</td>\n",
       "      <td>1.022555</td>\n",
       "      <td>-0.632503</td>\n",
       "    </tr>\n",
       "    <tr>\n",
       "      <th>3</th>\n",
       "      <td>A</td>\n",
       "      <td>6 years</td>\n",
       "      <td>RENT</td>\n",
       "      <td>credit_card</td>\n",
       "      <td>0</td>\n",
       "      <td>0</td>\n",
       "      <td>1</td>\n",
       "      <td>0</td>\n",
       "      <td>0</td>\n",
       "      <td>-2.642043</td>\n",
       "      <td>0.828942</td>\n",
       "      <td>-2.043893</td>\n",
       "      <td>-1.506059</td>\n",
       "      <td>-0.328336</td>\n",
       "      <td>0.970184</td>\n",
       "      <td>-0.443019</td>\n",
       "    </tr>\n",
       "    <tr>\n",
       "      <th>4</th>\n",
       "      <td>C</td>\n",
       "      <td>9 years</td>\n",
       "      <td>MORTGAGE</td>\n",
       "      <td>credit_card</td>\n",
       "      <td>0</td>\n",
       "      <td>1</td>\n",
       "      <td>1</td>\n",
       "      <td>0</td>\n",
       "      <td>1</td>\n",
       "      <td>2.242307</td>\n",
       "      <td>0.329608</td>\n",
       "      <td>1.239078</td>\n",
       "      <td>1.590864</td>\n",
       "      <td>-0.577655</td>\n",
       "      <td>-0.000224</td>\n",
       "      <td>0.621518</td>\n",
       "    </tr>\n",
       "  </tbody>\n",
       "</table>\n",
       "</div>"
      ],
      "text/plain": [
       "  grade emp_length home_ownership             purpose  \\\n",
       "0     B  10+ years           RENT            vacation   \n",
       "1     B    4 years       MORTGAGE  debt_consolidation   \n",
       "2     B   < 1 year           RENT         credit_card   \n",
       "3     A    6 years           RENT         credit_card   \n",
       "4     C    9 years       MORTGAGE         credit_card   \n",
       "\n",
       "   verification_status_Source Verified  verification_status_Verified  \\\n",
       "0                                    0                             0   \n",
       "1                                    0                             0   \n",
       "2                                    1                             0   \n",
       "3                                    0                             0   \n",
       "4                                    0                             1   \n",
       "\n",
       "   application_type_INDIVIDUAL  application_type_JOINT  term_ 60 months  \\\n",
       "0                            1                       0                0   \n",
       "1                            1                       0                0   \n",
       "2                            1                       0                0   \n",
       "3                            1                       0                0   \n",
       "4                            1                       0                1   \n",
       "\n",
       "        PC1       PC2       PC3       PC4       PC5       PC6       PC7  \n",
       "0  0.985411  0.340003 -0.489591  1.288424 -0.186833  1.338887 -1.039342  \n",
       "1  0.578831 -0.050702 -0.780498  1.438851  0.937714 -0.143896  0.084733  \n",
       "2  0.279439  0.971699  0.470743  0.218240 -0.087787  1.022555 -0.632503  \n",
       "3 -2.642043  0.828942 -2.043893 -1.506059 -0.328336  0.970184 -0.443019  \n",
       "4  2.242307  0.329608  1.239078  1.590864 -0.577655 -0.000224  0.621518  "
      ]
     },
     "execution_count": 103,
     "metadata": {},
     "output_type": "execute_result"
    }
   ],
   "source": [
    "#creating a new data set with the Principal Components\n",
    "df1_pca=pd.concat([df1_cat,dummy,df_pca],axis=1)\n",
    "df1_pca.head()"
   ]
  },
  {
   "cell_type": "code",
   "execution_count": 104,
   "id": "05a6af11",
   "metadata": {},
   "outputs": [],
   "source": [
    "# bining variables for shake of simplicity\n",
    "df1_pca['home_ownership']=df1_pca['home_ownership'].replace(['OTHER', 'NONE', 'ANY'],'OTHERS')"
   ]
  },
  {
   "cell_type": "code",
   "execution_count": 105,
   "id": "d75380c1",
   "metadata": {},
   "outputs": [
    {
     "name": "stdout",
     "output_type": "stream",
     "text": [
      "X_train (277218, 16)\n",
      "y_train (277218,)\n",
      "X_test (118809, 16)\n",
      "y_test (118809,)\n"
     ]
    }
   ],
   "source": [
    "X=df1_pca.copy()\n",
    "y=df1.loan_status\n",
    "\n",
    "#splitting test train sets with 30:70 ratio respectively\n",
    "\n",
    "X_train_pca, X_test_pca, y_train_pca, y_test_pca = train_test_split(X, y, random_state = 10, test_size = 0.3)\n",
    "\n",
    "# print dimension of train set\n",
    "print('X_train', X_train_pca.shape)\n",
    "print('y_train', y_train_pca.shape)\n",
    "\n",
    "# print dimension of test set\n",
    "print('X_test', X_test_pca.shape)\n",
    "print('y_test', y_test_pca.shape)"
   ]
  },
  {
   "cell_type": "code",
   "execution_count": 106,
   "id": "8d74f558",
   "metadata": {},
   "outputs": [],
   "source": [
    "X_train_pca.reset_index(inplace=True,drop=True)\n",
    "y_train_pca.reset_index(inplace=True,drop=True)\n",
    "X_test_pca.reset_index(inplace=True,drop=True)\n",
    "y_test_pca.reset_index(inplace=True,drop=True)"
   ]
  },
  {
   "cell_type": "code",
   "execution_count": 107,
   "id": "19204527",
   "metadata": {},
   "outputs": [],
   "source": [
    "#encoding categorical variables\n",
    "\n",
    "le=LabelEncoder()\n",
    "Oe=OrdinalEncoder()\n",
    "Ohe=OneHotEncoder()\n",
    "clf=WoEEncoder()\n",
    "\n",
    "\n",
    "# train set\n",
    "\n",
    "X_train_pca['home_ownership']=clf.fit_transform(X_train_pca[['home_ownership']],y_train_pca)\n",
    "X_train_pca['purpose']=clf.fit_transform(X_train_pca[['purpose']],y_train_pca)\n",
    "X_train_pca['grade']=Oe.fit_transform(X_train_pca[['grade']])\n",
    "X_train_pca['emp_length']=Oe.fit_transform(X_train_pca[['emp_length']])\n",
    "\n",
    "\n",
    "# test set\n",
    "\n",
    "X_test_pca['home_ownership']=clf.fit_transform(X_test_pca[['home_ownership']],y_test_pca)\n",
    "X_test_pca['purpose']=clf.fit_transform(X_test_pca[['purpose']],y_test_pca)\n",
    "X_test_pca['grade']=Oe.fit_transform(X_test_pca[['grade']])\n",
    "X_test_pca['emp_length']=Oe.fit_transform(X_test_pca[['emp_length']])\n"
   ]
  },
  {
   "cell_type": "markdown",
   "id": "ca68c779",
   "metadata": {},
   "source": [
    "### linear regression on PCA Data"
   ]
  },
  {
   "cell_type": "code",
   "execution_count": 66,
   "id": "ca8ff6c3",
   "metadata": {},
   "outputs": [],
   "source": [
    "import statsmodels.api as sm"
   ]
  },
  {
   "cell_type": "code",
   "execution_count": 73,
   "id": "f626c3c4",
   "metadata": {},
   "outputs": [
    {
     "data": {
      "text/plain": [
       "0    222746\n",
       "1     54472\n",
       "Name: loan_status, dtype: int64"
      ]
     },
     "execution_count": 73,
     "metadata": {},
     "output_type": "execute_result"
    }
   ],
   "source": [
    "y_train_pca.value_counts()"
   ]
  },
  {
   "cell_type": "code",
   "execution_count": 108,
   "id": "7b3c864a",
   "metadata": {},
   "outputs": [
    {
     "name": "stdout",
     "output_type": "stream",
     "text": [
      "Optimization terminated successfully.\n",
      "         Current function value: 0.451308\n",
      "         Iterations 6\n",
      "                           Logit Regression Results                           \n",
      "==============================================================================\n",
      "Dep. Variable:            loan_status   No. Observations:               277218\n",
      "Model:                          Logit   Df Residuals:                   277201\n",
      "Method:                           MLE   Df Model:                           16\n",
      "Date:                Tue, 20 Sep 2022   Pseudo R-squ.:                 0.08920\n",
      "Time:                        19:59:10   Log-Likelihood:            -1.2511e+05\n",
      "converged:                       True   LL-Null:                   -1.3736e+05\n",
      "Covariance Type:            nonrobust   LLR p-value:                     0.000\n",
      "=======================================================================================================\n",
      "                                          coef    std err          z      P>|z|      [0.025      0.975]\n",
      "-------------------------------------------------------------------------------------------------------\n",
      "const                                  -2.3547      0.153    -15.438      0.000      -2.654      -2.056\n",
      "grade                                   0.1751      0.010     17.337      0.000       0.155       0.195\n",
      "emp_length                              0.0003      0.002      0.214      0.830      -0.003       0.003\n",
      "home_ownership                          0.5107      0.035     14.502      0.000       0.442       0.580\n",
      "purpose                                 0.3419      0.034     10.124      0.000       0.276       0.408\n",
      "verification_status_Source Verified     0.1890      0.013     14.011      0.000       0.163       0.215\n",
      "verification_status_Verified            0.1029      0.014      7.518      0.000       0.076       0.130\n",
      "application_type_INDIVIDUAL             0.2551      0.151      1.693      0.091      -0.040       0.550\n",
      "application_type_JOINT                 -0.9495      0.239     -3.974      0.000      -1.418      -0.481\n",
      "term_ 60 months                         0.4510      0.013     35.199      0.000       0.426       0.476\n",
      "PC1                                    -0.0136      0.003     -4.247      0.000      -0.020      -0.007\n",
      "PC2                                     0.0420      0.004     11.710      0.000       0.035       0.049\n",
      "PC3                                     0.2869      0.009     33.579      0.000       0.270       0.304\n",
      "PC4                                     0.1708      0.004     40.889      0.000       0.163       0.179\n",
      "PC5                                    -0.1711      0.006    -27.554      0.000      -0.183      -0.159\n",
      "PC6                                    -0.0819      0.011     -7.329      0.000      -0.104      -0.060\n",
      "PC7                                     0.0804      0.007     11.171      0.000       0.066       0.095\n",
      "=======================================================================================================\n"
     ]
    }
   ],
   "source": [
    "# build the model on train data (X_train and y_train)\n",
    "# use fit() to fit the logistic regression model\n",
    "logreg = sm.Logit(y_train_pca,sm.add_constant(X_train_pca)).fit()\n",
    "\n",
    "# print the summary of the model\n",
    "print(logreg.summary())"
   ]
  },
  {
   "cell_type": "code",
   "execution_count": 109,
   "id": "8af30ded",
   "metadata": {},
   "outputs": [],
   "source": [
    "# let 'y_pred_prob' be the predicted values of y\n",
    "y_pred_prob = logreg.predict(sm.add_constant(X_test_pca))\n",
    "\n",
    "# convert probabilities to 0 and 1 using 'if_else'\n",
    "y_pred = [ 0 if x < 0.5 else 1 for x in y_pred_prob]"
   ]
  },
  {
   "cell_type": "code",
   "execution_count": 110,
   "id": "6f37ab65",
   "metadata": {},
   "outputs": [
    {
     "name": "stdout",
     "output_type": "stream",
     "text": [
      "              precision    recall  f1-score   support\n",
      "\n",
      "           0       0.81      0.98      0.89     95609\n",
      "           1       0.53      0.07      0.13     23200\n",
      "\n",
      "    accuracy                           0.81    118809\n",
      "   macro avg       0.67      0.53      0.51    118809\n",
      "weighted avg       0.76      0.81      0.74    118809\n",
      "\n"
     ]
    }
   ],
   "source": [
    "# Test Report\n",
    "print(classification_report(y_test_pca,y_pred))"
   ]
  },
  {
   "cell_type": "code",
   "execution_count": 111,
   "id": "0f6425af",
   "metadata": {},
   "outputs": [
    {
     "data": {
      "image/png": "[encoded data removed]",
      "text/plain": [
       "<Figure size 1080x576 with 1 Axes>"
      ]
     },
     "metadata": {
      "needs_background": "light"
     },
     "output_type": "display_data"
    }
   ],
   "source": [
    "# create the confusion matrix\n",
    "cm = confusion_matrix(y_test_pca, y_pred)\n",
    "conf_matrix = pd.DataFrame(data = cm,columns = ['Predicted:0','Predicted:1'], index = ['Actual:0','Actual:1'])\n",
    "sns.heatmap(conf_matrix, annot = True, fmt = 'd', cmap = ListedColormap(['lightskyblue']), cbar = False, \n",
    "            linewidths = 0.1, annot_kws = {'size':25})\n",
    "# set the font size of x-axis ticks using 'fontsize'\n",
    "plt.xticks(fontsize = 20)\n",
    "\n",
    "# set the font size of y-axis ticks using 'fontsize'\n",
    "plt.yticks(fontsize = 20)\n",
    "\n",
    "# display the plot\n",
    "plt.show()"
   ]
  },
  {
   "cell_type": "code",
   "execution_count": 112,
   "id": "8825f0ed",
   "metadata": {},
   "outputs": [
    {
     "data": {
      "image/png": "[encoded data removed]",
      "text/plain": [
       "<Figure size 1080x576 with 1 Axes>"
      ]
     },
     "metadata": {
      "needs_background": "light"
     },
     "output_type": "display_data"
    }
   ],
   "source": [
    "# the roc_curve() returns the values for false positive rate, true positive rate and threshold\n",
    "# pass the actual target values and predicted probabilities to the function\n",
    "fpr, tpr, thresholds = roc_curve(y_test, y_pred_prob)\n",
    "\n",
    "# plot the ROC curve\n",
    "plt.plot(fpr, tpr)\n",
    "\n",
    "# set limits for x and y axes\n",
    "plt.xlim([0.0, 1.0])\n",
    "plt.ylim([0.0, 1.0])\n",
    "\n",
    "# plot the straight line showing worst prediction for the model\n",
    "plt.plot([0, 1], [0, 1],'r--')\n",
    "\n",
    "# add plot and axes labels\n",
    "# set text size using 'fontsize'\n",
    "plt.title('ROC curve for Defaulters', fontsize = 15)\n",
    "plt.xlabel('False positive rate (1-Specificity)', fontsize = 15)\n",
    "plt.ylabel('True positive rate (Sensitivity)', fontsize = 15)\n",
    "\n",
    "# add the AUC score to the plot\n",
    "# 'x' and 'y' gives position of the text\n",
    "# 's' is the text \n",
    "# use round() to round-off the AUC score upto 4 digits\n",
    "plt.text(x = 0.02, y = 0.9, s = ('AUC Score:', round(roc_auc_score(y_test, y_pred_prob),4)))\n",
    "                               \n",
    "# plot the grid\n",
    "plt.grid(True)"
   ]
  },
  {
   "cell_type": "markdown",
   "id": "a97cb892",
   "metadata": {},
   "source": [
    "#### youdens index"
   ]
  },
  {
   "cell_type": "code",
   "execution_count": 113,
   "id": "34eb7a05",
   "metadata": {},
   "outputs": [
    {
     "data": {
      "text/html": [
       "<div>\n",
       "<style scoped>\n",
       "    .dataframe tbody tr th:only-of-type {\n",
       "        vertical-align: middle;\n",
       "    }\n",
       "\n",
       "    .dataframe tbody tr th {\n",
       "        vertical-align: top;\n",
       "    }\n",
       "\n",
       "    .dataframe thead th {\n",
       "        text-align: right;\n",
       "    }\n",
       "</style>\n",
       "<table border=\"1\" class=\"dataframe\">\n",
       "  <thead>\n",
       "    <tr style=\"text-align: right;\">\n",
       "      <th></th>\n",
       "      <th>TPR</th>\n",
       "      <th>FPR</th>\n",
       "      <th>Threshold</th>\n",
       "      <th>Difference</th>\n",
       "    </tr>\n",
       "  </thead>\n",
       "  <tbody>\n",
       "    <tr>\n",
       "      <th>0</th>\n",
       "      <td>0.674526</td>\n",
       "      <td>0.373469</td>\n",
       "      <td>0.185960</td>\n",
       "      <td>0.301057</td>\n",
       "    </tr>\n",
       "    <tr>\n",
       "      <th>1</th>\n",
       "      <td>0.674483</td>\n",
       "      <td>0.373459</td>\n",
       "      <td>0.185969</td>\n",
       "      <td>0.301024</td>\n",
       "    </tr>\n",
       "    <tr>\n",
       "      <th>2</th>\n",
       "      <td>0.674310</td>\n",
       "      <td>0.373291</td>\n",
       "      <td>0.186016</td>\n",
       "      <td>0.301019</td>\n",
       "    </tr>\n",
       "    <tr>\n",
       "      <th>3</th>\n",
       "      <td>0.673103</td>\n",
       "      <td>0.372088</td>\n",
       "      <td>0.186415</td>\n",
       "      <td>0.301015</td>\n",
       "    </tr>\n",
       "    <tr>\n",
       "      <th>4</th>\n",
       "      <td>0.673793</td>\n",
       "      <td>0.372779</td>\n",
       "      <td>0.186181</td>\n",
       "      <td>0.301014</td>\n",
       "    </tr>\n",
       "  </tbody>\n",
       "</table>\n",
       "</div>"
      ],
      "text/plain": [
       "       TPR      FPR  Threshold  Difference\n",
       "0 0.674526 0.373469   0.185960    0.301057\n",
       "1 0.674483 0.373459   0.185969    0.301024\n",
       "2 0.674310 0.373291   0.186016    0.301019\n",
       "3 0.673103 0.372088   0.186415    0.301015\n",
       "4 0.673793 0.372779   0.186181    0.301014"
      ]
     },
     "execution_count": 113,
     "metadata": {},
     "output_type": "execute_result"
    }
   ],
   "source": [
    "# create a dataframe to store the values for false positive rate, true positive rate and threshold\n",
    "youdens_table = pd.DataFrame({'TPR': tpr,\n",
    "                             'FPR': fpr,\n",
    "                             'Threshold': thresholds})\n",
    "\n",
    "# calculate the difference between TPR and FPR for each threshold and store the values in a new column 'Difference'\n",
    "youdens_table['Difference'] = youdens_table.TPR - youdens_table.FPR\n",
    "\n",
    "# sort the dataframe based on the values of difference \n",
    "youdens_table = youdens_table.sort_values('Difference', ascending = False).reset_index(drop = True)\n",
    "\n",
    "# print the first five observations\n",
    "youdens_table.head()"
   ]
  },
  {
   "cell_type": "code",
   "execution_count": 114,
   "id": "44a74001",
   "metadata": {},
   "outputs": [],
   "source": [
    "# let 'y_pred_prob' be the predicted values of y\n",
    "y_pred_prob_yoden = logreg.predict(sm.add_constant(X_test_pca))\n",
    "\n",
    "# convert probabilities to 0 and 1 using 'if_else'\n",
    "y_pred_yoden = [ 0 if x < 0.18 else 1 for x in y_pred_prob_yoden]"
   ]
  },
  {
   "cell_type": "code",
   "execution_count": 115,
   "id": "8a93525a",
   "metadata": {},
   "outputs": [
    {
     "name": "stdout",
     "output_type": "stream",
     "text": [
      "              precision    recall  f1-score   support\n",
      "\n",
      "           0       0.89      0.61      0.72     95609\n",
      "           1       0.30      0.69      0.42     23200\n",
      "\n",
      "    accuracy                           0.62    118809\n",
      "   macro avg       0.60      0.65      0.57    118809\n",
      "weighted avg       0.78      0.62      0.66    118809\n",
      "\n"
     ]
    }
   ],
   "source": [
    "# Test Report\n",
    "print(classification_report(y_test_pca,y_pred_yoden))"
   ]
  },
  {
   "cell_type": "code",
   "execution_count": 117,
   "id": "c7cfaf45",
   "metadata": {},
   "outputs": [
    {
     "data": {
      "image/png": "[encoded data removed]",
      "text/plain": [
       "<Figure size 1080x576 with 1 Axes>"
      ]
     },
     "metadata": {
      "needs_background": "light"
     },
     "output_type": "display_data"
    }
   ],
   "source": [
    "# create the confusion matrix\n",
    "cm = confusion_matrix(y_test_pca, y_pred_yoden)\n",
    "conf_matrix = pd.DataFrame(data = cm,columns = ['Predicted:0','Predicted:1'], index = ['Actual:0','Actual:1'])\n",
    "sns.heatmap(conf_matrix, annot = True, fmt = 'd', cmap = ListedColormap(['lightskyblue']), cbar = False, \n",
    "            linewidths = 0.1, annot_kws = {'size':25})\n",
    "# set the font size of x-axis ticks using 'fontsize'\n",
    "plt.xticks(fontsize = 20)\n",
    "\n",
    "# set the font size of y-axis ticks using 'fontsize'\n",
    "plt.yticks(fontsize = 20)\n",
    "\n",
    "# display the plot\n",
    "plt.show()"
   ]
  },
  {
   "cell_type": "code",
   "execution_count": 118,
   "id": "c6bf1669",
   "metadata": {},
   "outputs": [
    {
     "data": {
      "image/png": "[encoded data removed]",
      "text/plain": [
       "<Figure size 1080x576 with 1 Axes>"
      ]
     },
     "metadata": {
      "needs_background": "light"
     },
     "output_type": "display_data"
    }
   ],
   "source": [
    "# the roc_curve() returns the values for false positive rate, true positive rate and threshold\n",
    "# pass the actual target values and predicted probabilities to the function\n",
    "fpr, tpr, thresholds = roc_curve(y_test, y_pred_yoden)\n",
    "\n",
    "# plot the ROC curve\n",
    "plt.plot(fpr, tpr)\n",
    "\n",
    "# set limits for x and y axes\n",
    "plt.xlim([0.0, 1.0])\n",
    "plt.ylim([0.0, 1.0])\n",
    "\n",
    "# plot the straight line showing worst prediction for the model\n",
    "plt.plot([0, 1], [0, 1],'r--')\n",
    "\n",
    "# add plot and axes labels\n",
    "# set text size using 'fontsize'\n",
    "plt.title('ROC curve for Defaulters', fontsize = 15)\n",
    "plt.xlabel('False positive rate (1-Specificity)', fontsize = 15)\n",
    "plt.ylabel('True positive rate (Sensitivity)', fontsize = 15)\n",
    "\n",
    "# add the AUC score to the plot\n",
    "# 'x' and 'y' gives position of the text\n",
    "# 's' is the text \n",
    "# use round() to round-off the AUC score upto 4 digits\n",
    "plt.text(x = 0.02, y = 0.9, s = ('AUC Score:', round(roc_auc_score(y_test, y_pred_prob),4)))\n",
    "                               \n",
    "# plot the grid\n",
    "plt.grid(True)"
   ]
  },
  {
   "cell_type": "markdown",
   "id": "cdd4f460",
   "metadata": {},
   "source": [
    "## Resampling"
   ]
  },
  {
   "cell_type": "code",
   "execution_count": 120,
   "id": "257e1dd4",
   "metadata": {},
   "outputs": [],
   "source": [
    "from imblearn.over_sampling import RandomOverSampler\n",
    "ros=RandomOverSampler(random_state=10)\n",
    "X_train_resampled,y_train_resampled=ros.fit_resample(X_train_pca,y_train_pca)"
   ]
  },
  {
   "cell_type": "code",
   "execution_count": 121,
   "id": "31243cfe",
   "metadata": {},
   "outputs": [
    {
     "name": "stdout",
     "output_type": "stream",
     "text": [
      "Optimization terminated successfully.\n",
      "         Current function value: 0.623538\n",
      "         Iterations 5\n",
      "                           Logit Regression Results                           \n",
      "==============================================================================\n",
      "Dep. Variable:            loan_status   No. Observations:               445492\n",
      "Model:                          Logit   Df Residuals:                   445475\n",
      "Method:                           MLE   Df Model:                           16\n",
      "Date:                Tue, 20 Sep 2022   Pseudo R-squ.:                  0.1004\n",
      "Time:                        22:43:37   Log-Likelihood:            -2.7778e+05\n",
      "converged:                       True   LL-Null:                   -3.0879e+05\n",
      "Covariance Type:            nonrobust   LLR p-value:                     0.000\n",
      "=======================================================================================================\n",
      "                                          coef    std err          z      P>|z|      [0.025      0.975]\n",
      "-------------------------------------------------------------------------------------------------------\n",
      "const                                  -0.9422      0.111     -8.465      0.000      -1.160      -0.724\n",
      "grade                                   0.1761      0.007     26.610      0.000       0.163       0.189\n",
      "emp_length                              0.0011      0.001      1.033      0.302      -0.001       0.003\n",
      "home_ownership                          0.5023      0.022     22.403      0.000       0.458       0.546\n",
      "purpose                                 0.3537      0.021     16.717      0.000       0.312       0.395\n",
      "verification_status_Source Verified     0.1772      0.008     21.019      0.000       0.161       0.194\n",
      "verification_status_Verified            0.0777      0.009      9.062      0.000       0.061       0.094\n",
      "application_type_INDIVIDUAL             0.2543      0.110      2.306      0.021       0.038       0.470\n",
      "application_type_JOINT                 -0.7114      0.154     -4.617      0.000      -1.013      -0.409\n",
      "term_ 60 months                         0.4519      0.008     53.855      0.000       0.435       0.468\n",
      "PC1                                    -0.0132      0.002     -6.495      0.000      -0.017      -0.009\n",
      "PC2                                     0.0426      0.002     18.380      0.000       0.038       0.047\n",
      "PC3                                     0.3007      0.005     55.207      0.000       0.290       0.311\n",
      "PC4                                     0.1720      0.003     64.667      0.000       0.167       0.177\n",
      "PC5                                    -0.1736      0.004    -44.123      0.000      -0.181      -0.166\n",
      "PC6                                    -0.0972      0.007    -13.685      0.000      -0.111      -0.083\n",
      "PC7                                     0.0726      0.005     15.825      0.000       0.064       0.082\n",
      "=======================================================================================================\n"
     ]
    }
   ],
   "source": [
    "# build the model on train data (X_train and y_train)\n",
    "# use fit() to fit the logistic regression model\n",
    "logreg = sm.Logit(y_train_resampled,sm.add_constant(X_train_resampled)).fit()\n",
    "\n",
    "# print the summary of the model\n",
    "print(logreg.summary())"
   ]
  },
  {
   "cell_type": "code",
   "execution_count": 122,
   "id": "00d884a1",
   "metadata": {},
   "outputs": [],
   "source": [
    "# let 'y_pred_prob' be the predicted values of y\n",
    "y_pred_prob = logreg.predict(sm.add_constant(X_test_pca))\n",
    "\n",
    "# convert probabilities to 0 and 1 using 'if_else'\n",
    "y_pred = [ 0 if x < 0.5 else 1 for x in y_pred_prob]"
   ]
  },
  {
   "cell_type": "code",
   "execution_count": 123,
   "id": "71d8fb41",
   "metadata": {},
   "outputs": [
    {
     "name": "stdout",
     "output_type": "stream",
     "text": [
      "              precision    recall  f1-score   support\n",
      "\n",
      "           0       0.88      0.66      0.75     95609\n",
      "           1       0.31      0.64      0.42     23200\n",
      "\n",
      "    accuracy                           0.66    118809\n",
      "   macro avg       0.60      0.65      0.59    118809\n",
      "weighted avg       0.77      0.66      0.69    118809\n",
      "\n"
     ]
    }
   ],
   "source": [
    "# Test Report\n",
    "print(classification_report(y_test_pca,y_pred))"
   ]
  },
  {
   "cell_type": "code",
   "execution_count": 124,
   "id": "6d767911",
   "metadata": {},
   "outputs": [
    {
     "data": {
      "image/png": "[encoded data removed]",
      "text/plain": [
       "<Figure size 1080x576 with 1 Axes>"
      ]
     },
     "metadata": {
      "needs_background": "light"
     },
     "output_type": "display_data"
    }
   ],
   "source": [
    "# create the confusion matrix\n",
    "cm = confusion_matrix(y_test_pca, y_pred)\n",
    "conf_matrix = pd.DataFrame(data = cm,columns = ['Predicted:0','Predicted:1'], index = ['Actual:0','Actual:1'])\n",
    "sns.heatmap(conf_matrix, annot = True, fmt = 'd', cmap = ListedColormap(['lightskyblue']), cbar = False, \n",
    "            linewidths = 0.1, annot_kws = {'size':25})\n",
    "# set the font size of x-axis ticks using 'fontsize'\n",
    "plt.xticks(fontsize = 20)\n",
    "\n",
    "# set the font size of y-axis ticks using 'fontsize'\n",
    "plt.yticks(fontsize = 20)\n",
    "\n",
    "# display the plot\n",
    "plt.show()"
   ]
  },
  {
   "cell_type": "code",
   "execution_count": 125,
   "id": "f4f6ac1e",
   "metadata": {},
   "outputs": [
    {
     "data": {
      "image/png": "[encoded data removed]",
      "text/plain": [
       "<Figure size 1080x576 with 1 Axes>"
      ]
     },
     "metadata": {
      "needs_background": "light"
     },
     "output_type": "display_data"
    }
   ],
   "source": [
    "# the roc_curve() returns the values for false positive rate, true positive rate and threshold\n",
    "# pass the actual target values and predicted probabilities to the function\n",
    "fpr, tpr, thresholds = roc_curve(y_test, y_pred_prob)\n",
    "\n",
    "# plot the ROC curve\n",
    "plt.plot(fpr, tpr)\n",
    "\n",
    "# set limits for x and y axes\n",
    "plt.xlim([0.0, 1.0])\n",
    "plt.ylim([0.0, 1.0])\n",
    "\n",
    "# plot the straight line showing worst prediction for the model\n",
    "plt.plot([0, 1], [0, 1],'r--')\n",
    "\n",
    "# add plot and axes labels\n",
    "# set text size using 'fontsize'\n",
    "plt.title('ROC curve for Defaulters', fontsize = 15)\n",
    "plt.xlabel('False positive rate (1-Specificity)', fontsize = 15)\n",
    "plt.ylabel('True positive rate (Sensitivity)', fontsize = 15)\n",
    "\n",
    "# add the AUC score to the plot\n",
    "# 'x' and 'y' gives position of the text\n",
    "# 's' is the text \n",
    "# use round() to round-off the AUC score upto 4 digits\n",
    "plt.text(x = 0.02, y = 0.9, s = ('AUC Score:', round(roc_auc_score(y_test, y_pred_prob),4)))\n",
    "                               \n",
    "# plot the grid\n",
    "plt.grid(True)"
   ]
  },
  {
   "cell_type": "code",
   "execution_count": 126,
   "id": "ccb579a0",
   "metadata": {},
   "outputs": [
    {
     "data": {
      "text/html": [
       "<div>\n",
       "<style scoped>\n",
       "    .dataframe tbody tr th:only-of-type {\n",
       "        vertical-align: middle;\n",
       "    }\n",
       "\n",
       "    .dataframe tbody tr th {\n",
       "        vertical-align: top;\n",
       "    }\n",
       "\n",
       "    .dataframe thead th {\n",
       "        text-align: right;\n",
       "    }\n",
       "</style>\n",
       "<table border=\"1\" class=\"dataframe\">\n",
       "  <thead>\n",
       "    <tr style=\"text-align: right;\">\n",
       "      <th></th>\n",
       "      <th>TPR</th>\n",
       "      <th>FPR</th>\n",
       "      <th>Threshold</th>\n",
       "      <th>Difference</th>\n",
       "    </tr>\n",
       "  </thead>\n",
       "  <tbody>\n",
       "    <tr>\n",
       "      <th>0</th>\n",
       "      <td>0.671379</td>\n",
       "      <td>0.370133</td>\n",
       "      <td>0.484524</td>\n",
       "      <td>0.301247</td>\n",
       "    </tr>\n",
       "    <tr>\n",
       "      <th>1</th>\n",
       "      <td>0.671422</td>\n",
       "      <td>0.370185</td>\n",
       "      <td>0.484475</td>\n",
       "      <td>0.301238</td>\n",
       "    </tr>\n",
       "    <tr>\n",
       "      <th>2</th>\n",
       "      <td>0.671336</td>\n",
       "      <td>0.370122</td>\n",
       "      <td>0.484541</td>\n",
       "      <td>0.301214</td>\n",
       "    </tr>\n",
       "    <tr>\n",
       "      <th>3</th>\n",
       "      <td>0.674569</td>\n",
       "      <td>0.373364</td>\n",
       "      <td>0.482805</td>\n",
       "      <td>0.301205</td>\n",
       "    </tr>\n",
       "    <tr>\n",
       "      <th>4</th>\n",
       "      <td>0.671336</td>\n",
       "      <td>0.370133</td>\n",
       "      <td>0.484541</td>\n",
       "      <td>0.301204</td>\n",
       "    </tr>\n",
       "  </tbody>\n",
       "</table>\n",
       "</div>"
      ],
      "text/plain": [
       "       TPR      FPR  Threshold  Difference\n",
       "0 0.671379 0.370133   0.484524    0.301247\n",
       "1 0.671422 0.370185   0.484475    0.301238\n",
       "2 0.671336 0.370122   0.484541    0.301214\n",
       "3 0.674569 0.373364   0.482805    0.301205\n",
       "4 0.671336 0.370133   0.484541    0.301204"
      ]
     },
     "execution_count": 126,
     "metadata": {},
     "output_type": "execute_result"
    }
   ],
   "source": [
    "# create a dataframe to store the values for false positive rate, true positive rate and threshold\n",
    "youdens_table = pd.DataFrame({'TPR': tpr,\n",
    "                             'FPR': fpr,\n",
    "                             'Threshold': thresholds})\n",
    "\n",
    "# calculate the difference between TPR and FPR for each threshold and store the values in a new column 'Difference'\n",
    "youdens_table['Difference'] = youdens_table.TPR - youdens_table.FPR\n",
    "\n",
    "# sort the dataframe based on the values of difference \n",
    "youdens_table = youdens_table.sort_values('Difference', ascending = False).reset_index(drop = True)\n",
    "\n",
    "# print the first five observations\n",
    "youdens_table.head()"
   ]
  },
  {
   "cell_type": "code",
   "execution_count": 127,
   "id": "f562939a",
   "metadata": {},
   "outputs": [],
   "source": [
    "# let 'y_pred_prob' be the predicted values of y\n",
    "y_pred_prob_yoden = logreg.predict(sm.add_constant(X_test_pca))\n",
    "\n",
    "# convert probabilities to 0 and 1 using 'if_else'\n",
    "y_pred_yoden = [ 0 if x < 0.48 else 1 for x in y_pred_prob_yoden]"
   ]
  },
  {
   "cell_type": "code",
   "execution_count": 128,
   "id": "dfb361c4",
   "metadata": {},
   "outputs": [
    {
     "name": "stdout",
     "output_type": "stream",
     "text": [
      "              precision    recall  f1-score   support\n",
      "\n",
      "           0       0.89      0.62      0.73     95609\n",
      "           1       0.30      0.68      0.42     23200\n",
      "\n",
      "    accuracy                           0.63    118809\n",
      "   macro avg       0.60      0.65      0.58    118809\n",
      "weighted avg       0.77      0.63      0.67    118809\n",
      "\n"
     ]
    }
   ],
   "source": [
    "# Test Report\n",
    "print(classification_report(y_test_pca,y_pred_yoden))"
   ]
  },
  {
   "cell_type": "code",
   "execution_count": 130,
   "id": "f9706917",
   "metadata": {},
   "outputs": [
    {
     "data": {
      "image/png": "[encoded data removed]",
      "text/plain": [
       "<Figure size 1080x576 with 1 Axes>"
      ]
     },
     "metadata": {
      "needs_background": "light"
     },
     "output_type": "display_data"
    }
   ],
   "source": [
    "# create the confusion matrix\n",
    "cm = confusion_matrix(y_test_pca, y_pred_yoden)\n",
    "conf_matrix = pd.DataFrame(data = cm,columns = ['Predicted:0','Predicted:1'], index = ['Actual:0','Actual:1'])\n",
    "sns.heatmap(conf_matrix, annot = True, fmt = 'd', cmap = ListedColormap(['lightskyblue']), cbar = False, \n",
    "            linewidths = 0.1, annot_kws = {'size':25})\n",
    "# set the font size of x-axis ticks using 'fontsize'\n",
    "plt.xticks(fontsize = 20)\n",
    "\n",
    "# set the font size of y-axis ticks using 'fontsize'\n",
    "plt.yticks(fontsize = 20)\n",
    "\n",
    "# display the plot\n",
    "plt.show()"
   ]
  },
  {
   "cell_type": "code",
   "execution_count": 131,
   "id": "fc855ee9",
   "metadata": {},
   "outputs": [
    {
     "data": {
      "image/png": "[encoded data removed]",
      "text/plain": [
       "<Figure size 1080x576 with 1 Axes>"
      ]
     },
     "metadata": {
      "needs_background": "light"
     },
     "output_type": "display_data"
    }
   ],
   "source": [
    "# the roc_curve() returns the values for false positive rate, true positive rate and threshold\n",
    "# pass the actual target values and predicted probabilities to the function\n",
    "fpr, tpr, thresholds = roc_curve(y_test, y_pred_yoden)\n",
    "\n",
    "# plot the ROC curve\n",
    "plt.plot(fpr, tpr)\n",
    "\n",
    "# set limits for x and y axes\n",
    "plt.xlim([0.0, 1.0])\n",
    "plt.ylim([0.0, 1.0])\n",
    "\n",
    "# plot the straight line showing worst prediction for the model\n",
    "plt.plot([0, 1], [0, 1],'r--')\n",
    "\n",
    "# add plot and axes labels\n",
    "# set text size using 'fontsize'\n",
    "plt.title('ROC curve for Defaulters', fontsize = 15)\n",
    "plt.xlabel('False positive rate (1-Specificity)', fontsize = 15)\n",
    "plt.ylabel('True positive rate (Sensitivity)', fontsize = 15)\n",
    "\n",
    "# add the AUC score to the plot\n",
    "# 'x' and 'y' gives position of the text\n",
    "# 's' is the text \n",
    "# use round() to round-off the AUC score upto 4 digits\n",
    "plt.text(x = 0.02, y = 0.9, s = ('AUC Score:', round(roc_auc_score(y_test, y_pred_prob),4)))\n",
    "                               \n",
    "# plot the grid\n",
    "plt.grid(True)"
   ]
  },
  {
   "cell_type": "markdown",
   "id": "ec688407",
   "metadata": {},
   "source": [
    "## LDA"
   ]
  },
  {
   "cell_type": "code",
   "execution_count": 133,
   "id": "56e3045b",
   "metadata": {},
   "outputs": [],
   "source": [
    "# 'LDA' function to perform linear discriminant analysis using the sklearn library\n",
    "from sklearn.discriminant_analysis import LinearDiscriminantAnalysis as LDA"
   ]
  },
  {
   "cell_type": "code",
   "execution_count": 135,
   "id": "7b7240b5",
   "metadata": {},
   "outputs": [
    {
     "data": {
      "text/html": [
       "<div>\n",
       "<style scoped>\n",
       "    .dataframe tbody tr th:only-of-type {\n",
       "        vertical-align: middle;\n",
       "    }\n",
       "\n",
       "    .dataframe tbody tr th {\n",
       "        vertical-align: top;\n",
       "    }\n",
       "\n",
       "    .dataframe thead th {\n",
       "        text-align: right;\n",
       "    }\n",
       "</style>\n",
       "<table border=\"1\" class=\"dataframe\">\n",
       "  <thead>\n",
       "    <tr style=\"text-align: right;\">\n",
       "      <th></th>\n",
       "      <th>loan_amnt</th>\n",
       "      <th>int_rate</th>\n",
       "      <th>installment</th>\n",
       "      <th>annual_inc</th>\n",
       "      <th>dti</th>\n",
       "      <th>open_acc</th>\n",
       "      <th>pub_rec</th>\n",
       "      <th>revol_bal</th>\n",
       "      <th>revol_util</th>\n",
       "      <th>total_acc</th>\n",
       "      <th>mort_acc</th>\n",
       "      <th>pub_rec_bankruptcies</th>\n",
       "    </tr>\n",
       "  </thead>\n",
       "  <tbody>\n",
       "    <tr>\n",
       "      <th>0</th>\n",
       "      <td>-0.492242</td>\n",
       "      <td>-0.491799</td>\n",
       "      <td>-0.408290</td>\n",
       "      <td>0.694323</td>\n",
       "      <td>1.092107</td>\n",
       "      <td>0.912659</td>\n",
       "      <td>-0.335786</td>\n",
       "      <td>0.996727</td>\n",
       "      <td>-0.490616</td>\n",
       "      <td>-0.034885</td>\n",
       "      <td>-0.844169</td>\n",
       "      <td>-0.341284</td>\n",
       "    </tr>\n",
       "    <tr>\n",
       "      <th>1</th>\n",
       "      <td>-0.731550</td>\n",
       "      <td>-0.368816</td>\n",
       "      <td>-0.662750</td>\n",
       "      <td>-0.149320</td>\n",
       "      <td>0.577418</td>\n",
       "      <td>1.107302</td>\n",
       "      <td>-0.335786</td>\n",
       "      <td>0.208163</td>\n",
       "      <td>-0.020148</td>\n",
       "      <td>0.133368</td>\n",
       "      <td>0.614391</td>\n",
       "      <td>-0.341284</td>\n",
       "    </tr>\n",
       "    <tr>\n",
       "      <th>2</th>\n",
       "      <td>0.177821</td>\n",
       "      <td>-0.704225</td>\n",
       "      <td>0.299610</td>\n",
       "      <td>-0.505321</td>\n",
       "      <td>-0.560058</td>\n",
       "      <td>0.328730</td>\n",
       "      <td>-0.335786</td>\n",
       "      <td>-0.187332</td>\n",
       "      <td>1.571263</td>\n",
       "      <td>0.049241</td>\n",
       "      <td>-0.844169</td>\n",
       "      <td>-0.341284</td>\n",
       "    </tr>\n",
       "    <tr>\n",
       "      <th>3</th>\n",
       "      <td>-0.827273</td>\n",
       "      <td>-1.598647</td>\n",
       "      <td>-0.842347</td>\n",
       "      <td>-0.327783</td>\n",
       "      <td>-1.811773</td>\n",
       "      <td>-1.033772</td>\n",
       "      <td>-0.335786</td>\n",
       "      <td>-0.503719</td>\n",
       "      <td>-1.321095</td>\n",
       "      <td>-1.044402</td>\n",
       "      <td>-0.844169</td>\n",
       "      <td>-0.341284</td>\n",
       "    </tr>\n",
       "    <tr>\n",
       "      <th>4</th>\n",
       "      <td>1.227785</td>\n",
       "      <td>0.811821</td>\n",
       "      <td>0.707862</td>\n",
       "      <td>-0.311559</td>\n",
       "      <td>2.039185</td>\n",
       "      <td>0.328730</td>\n",
       "      <td>-0.335786</td>\n",
       "      <td>0.424414</td>\n",
       "      <td>0.654872</td>\n",
       "      <td>1.479390</td>\n",
       "      <td>-0.357982</td>\n",
       "      <td>-0.341284</td>\n",
       "    </tr>\n",
       "  </tbody>\n",
       "</table>\n",
       "</div>"
      ],
      "text/plain": [
       "   loan_amnt  int_rate  installment  annual_inc       dti  open_acc   pub_rec  \\\n",
       "0  -0.492242 -0.491799    -0.408290    0.694323  1.092107  0.912659 -0.335786   \n",
       "1  -0.731550 -0.368816    -0.662750   -0.149320  0.577418  1.107302 -0.335786   \n",
       "2   0.177821 -0.704225     0.299610   -0.505321 -0.560058  0.328730 -0.335786   \n",
       "3  -0.827273 -1.598647    -0.842347   -0.327783 -1.811773 -1.033772 -0.335786   \n",
       "4   1.227785  0.811821     0.707862   -0.311559  2.039185  0.328730 -0.335786   \n",
       "\n",
       "   revol_bal  revol_util  total_acc  mort_acc  pub_rec_bankruptcies  \n",
       "0   0.996727   -0.490616  -0.034885 -0.844169             -0.341284  \n",
       "1   0.208163   -0.020148   0.133368  0.614391             -0.341284  \n",
       "2  -0.187332    1.571263   0.049241 -0.844169             -0.341284  \n",
       "3  -0.503719   -1.321095  -1.044402 -0.844169             -0.341284  \n",
       "4   0.424414    0.654872   1.479390 -0.357982             -0.341284  "
      ]
     },
     "execution_count": 135,
     "metadata": {},
     "output_type": "execute_result"
    }
   ],
   "source": [
    "df1_scaled.head()"
   ]
  },
  {
   "cell_type": "code",
   "execution_count": 136,
   "id": "28effca8",
   "metadata": {},
   "outputs": [
    {
     "name": "stdout",
     "output_type": "stream",
     "text": [
      "X_train (277218, 12)\n",
      "y_train (277218,)\n",
      "X_test (118809, 12)\n",
      "y_test (118809,)\n"
     ]
    }
   ],
   "source": [
    "X=df1_scaled.copy()\n",
    "y=df1.loan_status\n",
    "\n",
    "#splitting test train sets with 30:70 ratio respectively\n",
    "\n",
    "X_train, X_test, y_train, y_test = train_test_split(X, y, random_state = 10, test_size = 0.3)\n",
    "\n",
    "# print dimension of train set\n",
    "print('X_train', X_train.shape)\n",
    "print('y_train', y_train.shape)\n",
    "\n",
    "# print dimension of test set\n",
    "print('X_test', X_test.shape)\n",
    "print('y_test', y_test.shape)"
   ]
  },
  {
   "cell_type": "code",
   "execution_count": 137,
   "id": "e17ca25c",
   "metadata": {},
   "outputs": [],
   "source": [
    "# instantiate the LDA\n",
    "# here we have 2 classes in target variable, thus we choose n_components as 2 - 1 = 1\n",
    "lda = LDA(n_components = 1)\n",
    "\n",
    "# pass the train data to transform the train and test sets\n",
    "X_train_lda = lda.fit_transform(X_train, y_train)\n",
    "X_test_lda = lda.transform(X_test)"
   ]
  },
  {
   "cell_type": "code",
   "execution_count": 142,
   "id": "3919f34e",
   "metadata": {},
   "outputs": [],
   "source": [
    "# define a function to build a decision tree model and calculate the accuracy on the test set\n",
    "# pass the train and test sets as the \n",
    "def decisiontree_model_run(X_train, X_test, y_train, y_test):\n",
    "    \n",
    "    # create a decision tree classifier object\n",
    "    # use 'random_state' to obtain the same results for multiple code runs\n",
    "    df_tree = DecisionTreeClassifier(random_state=10)\n",
    "    \n",
    "    # fit the decision tree model on the train set\n",
    "    df_tree.fit(X_train, y_train)\n",
    "    \n",
    "   \n",
    "    \n",
    "    train_pred = df_tree.predict(X_train)\n",
    "\n",
    "    # return the performace measures on train set\n",
    "    print(classification_report(y_train, train_pred))\n",
    "\n",
    "\n",
    "    \n",
    "    \n",
    "    test_pred = df_tree.predict(X_test)\n",
    "\n",
    "    # return the performace measures on train set\n",
    "    print(classification_report(y_test, test_pred))"
   ]
  },
  {
   "cell_type": "code",
   "execution_count": 143,
   "id": "b6654003",
   "metadata": {},
   "outputs": [
    {
     "name": "stdout",
     "output_type": "stream",
     "text": [
      "              precision    recall  f1-score   support\n",
      "\n",
      "           0       1.00      1.00      1.00    222746\n",
      "           1       1.00      0.99      0.99     54472\n",
      "\n",
      "    accuracy                           1.00    277218\n",
      "   macro avg       1.00      0.99      1.00    277218\n",
      "weighted avg       1.00      1.00      1.00    277218\n",
      "\n",
      "              precision    recall  f1-score   support\n",
      "\n",
      "           0       0.82      0.82      0.82     95609\n",
      "           1       0.26      0.26      0.26     23200\n",
      "\n",
      "    accuracy                           0.71    118809\n",
      "   macro avg       0.54      0.54      0.54    118809\n",
      "weighted avg       0.71      0.71      0.71    118809\n",
      "\n"
     ]
    }
   ],
   "source": [
    "decisiontree_model_run(X_train_lda, X_test_lda, y_train, y_test)"
   ]
  },
  {
   "cell_type": "code",
   "execution_count": 148,
   "id": "3ff7b5c2",
   "metadata": {},
   "outputs": [
    {
     "data": {
      "text/html": [
       "<div>\n",
       "<style scoped>\n",
       "    .dataframe tbody tr th:only-of-type {\n",
       "        vertical-align: middle;\n",
       "    }\n",
       "\n",
       "    .dataframe tbody tr th {\n",
       "        vertical-align: top;\n",
       "    }\n",
       "\n",
       "    .dataframe thead th {\n",
       "        text-align: right;\n",
       "    }\n",
       "</style>\n",
       "<table border=\"1\" class=\"dataframe\">\n",
       "  <thead>\n",
       "    <tr style=\"text-align: right;\">\n",
       "      <th></th>\n",
       "      <th>LD</th>\n",
       "    </tr>\n",
       "  </thead>\n",
       "  <tbody>\n",
       "    <tr>\n",
       "      <th>0</th>\n",
       "      <td>0.540791</td>\n",
       "    </tr>\n",
       "    <tr>\n",
       "      <th>1</th>\n",
       "      <td>0.487243</td>\n",
       "    </tr>\n",
       "    <tr>\n",
       "      <th>2</th>\n",
       "      <td>0.066441</td>\n",
       "    </tr>\n",
       "    <tr>\n",
       "      <th>3</th>\n",
       "      <td>1.887166</td>\n",
       "    </tr>\n",
       "    <tr>\n",
       "      <th>4</th>\n",
       "      <td>-1.751871</td>\n",
       "    </tr>\n",
       "  </tbody>\n",
       "</table>\n",
       "</div>"
      ],
      "text/plain": [
       "         LD\n",
       "0  0.540791\n",
       "1  0.487243\n",
       "2  0.066441\n",
       "3  1.887166\n",
       "4 -1.751871"
      ]
     },
     "execution_count": 148,
     "metadata": {},
     "output_type": "execute_result"
    }
   ],
   "source": [
    "components = lda.fit_transform(df1_scaledpt,df1['loan_status'])\n",
    "\n",
    "# create a dataframe of principal components\n",
    "# pass the required column names to the parameter 'columns'\n",
    "df_lda = pd.DataFrame(data = components,columns=['LD'])\n",
    "\n",
    "# head() to display top five rows of the transformed data\n",
    "df_lda.head()"
   ]
  },
  {
   "cell_type": "code",
   "execution_count": 149,
   "id": "3e7a3f6b",
   "metadata": {},
   "outputs": [
    {
     "data": {
      "text/html": [
       "<div>\n",
       "<style scoped>\n",
       "    .dataframe tbody tr th:only-of-type {\n",
       "        vertical-align: middle;\n",
       "    }\n",
       "\n",
       "    .dataframe tbody tr th {\n",
       "        vertical-align: top;\n",
       "    }\n",
       "\n",
       "    .dataframe thead th {\n",
       "        text-align: right;\n",
       "    }\n",
       "</style>\n",
       "<table border=\"1\" class=\"dataframe\">\n",
       "  <thead>\n",
       "    <tr style=\"text-align: right;\">\n",
       "      <th></th>\n",
       "      <th>grade</th>\n",
       "      <th>emp_length</th>\n",
       "      <th>home_ownership</th>\n",
       "      <th>purpose</th>\n",
       "      <th>verification_status_Source Verified</th>\n",
       "      <th>verification_status_Verified</th>\n",
       "      <th>application_type_INDIVIDUAL</th>\n",
       "      <th>application_type_JOINT</th>\n",
       "      <th>term_ 60 months</th>\n",
       "      <th>LD</th>\n",
       "    </tr>\n",
       "  </thead>\n",
       "  <tbody>\n",
       "    <tr>\n",
       "      <th>0</th>\n",
       "      <td>B</td>\n",
       "      <td>10+ years</td>\n",
       "      <td>RENT</td>\n",
       "      <td>vacation</td>\n",
       "      <td>0</td>\n",
       "      <td>0</td>\n",
       "      <td>1</td>\n",
       "      <td>0</td>\n",
       "      <td>0</td>\n",
       "      <td>0.540791</td>\n",
       "    </tr>\n",
       "    <tr>\n",
       "      <th>1</th>\n",
       "      <td>B</td>\n",
       "      <td>4 years</td>\n",
       "      <td>MORTGAGE</td>\n",
       "      <td>debt_consolidation</td>\n",
       "      <td>0</td>\n",
       "      <td>0</td>\n",
       "      <td>1</td>\n",
       "      <td>0</td>\n",
       "      <td>0</td>\n",
       "      <td>0.487243</td>\n",
       "    </tr>\n",
       "    <tr>\n",
       "      <th>2</th>\n",
       "      <td>B</td>\n",
       "      <td>&lt; 1 year</td>\n",
       "      <td>RENT</td>\n",
       "      <td>credit_card</td>\n",
       "      <td>1</td>\n",
       "      <td>0</td>\n",
       "      <td>1</td>\n",
       "      <td>0</td>\n",
       "      <td>0</td>\n",
       "      <td>0.066441</td>\n",
       "    </tr>\n",
       "    <tr>\n",
       "      <th>3</th>\n",
       "      <td>A</td>\n",
       "      <td>6 years</td>\n",
       "      <td>RENT</td>\n",
       "      <td>credit_card</td>\n",
       "      <td>0</td>\n",
       "      <td>0</td>\n",
       "      <td>1</td>\n",
       "      <td>0</td>\n",
       "      <td>0</td>\n",
       "      <td>1.887166</td>\n",
       "    </tr>\n",
       "    <tr>\n",
       "      <th>4</th>\n",
       "      <td>C</td>\n",
       "      <td>9 years</td>\n",
       "      <td>MORTGAGE</td>\n",
       "      <td>credit_card</td>\n",
       "      <td>0</td>\n",
       "      <td>1</td>\n",
       "      <td>1</td>\n",
       "      <td>0</td>\n",
       "      <td>1</td>\n",
       "      <td>-1.751871</td>\n",
       "    </tr>\n",
       "  </tbody>\n",
       "</table>\n",
       "</div>"
      ],
      "text/plain": [
       "  grade emp_length home_ownership             purpose  \\\n",
       "0     B  10+ years           RENT            vacation   \n",
       "1     B    4 years       MORTGAGE  debt_consolidation   \n",
       "2     B   < 1 year           RENT         credit_card   \n",
       "3     A    6 years           RENT         credit_card   \n",
       "4     C    9 years       MORTGAGE         credit_card   \n",
       "\n",
       "   verification_status_Source Verified  verification_status_Verified  \\\n",
       "0                                    0                             0   \n",
       "1                                    0                             0   \n",
       "2                                    1                             0   \n",
       "3                                    0                             0   \n",
       "4                                    0                             1   \n",
       "\n",
       "   application_type_INDIVIDUAL  application_type_JOINT  term_ 60 months  \\\n",
       "0                            1                       0                0   \n",
       "1                            1                       0                0   \n",
       "2                            1                       0                0   \n",
       "3                            1                       0                0   \n",
       "4                            1                       0                1   \n",
       "\n",
       "         LD  \n",
       "0  0.540791  \n",
       "1  0.487243  \n",
       "2  0.066441  \n",
       "3  1.887166  \n",
       "4 -1.751871  "
      ]
     },
     "execution_count": 149,
     "metadata": {},
     "output_type": "execute_result"
    }
   ],
   "source": [
    "#creating a new data set with the Principal Components\n",
    "df1_lda=pd.concat([df1_cat,dummy,df_lda],axis=1)\n",
    "df1_lda.head()"
   ]
  },
  {
   "cell_type": "code",
   "execution_count": 155,
   "id": "df298e25",
   "metadata": {},
   "outputs": [],
   "source": [
    "# bining variables for shake of simplicity\n",
    "df1_lda['home_ownership']=df1_lda['home_ownership'].replace(['OTHER', 'NONE', 'ANY'],'OTHERS')"
   ]
  },
  {
   "cell_type": "code",
   "execution_count": 156,
   "id": "f920574b",
   "metadata": {},
   "outputs": [
    {
     "name": "stdout",
     "output_type": "stream",
     "text": [
      "X_train (277218, 10)\n",
      "y_train (277218,)\n",
      "X_test (118809, 10)\n",
      "y_test (118809,)\n"
     ]
    }
   ],
   "source": [
    "X=df1_lda.copy()\n",
    "y=df1.loan_status\n",
    "\n",
    "#splitting test train sets with 30:70 ratio respectively\n",
    "\n",
    "X_train_lda, X_test_lda, y_train_lda, y_test_lda = train_test_split(X, y, random_state = 10, test_size = 0.3)\n",
    "\n",
    "# print dimension of train set\n",
    "print('X_train', X_train_lda.shape)\n",
    "print('y_train', y_train_lda.shape)\n",
    "\n",
    "# print dimension of test set\n",
    "print('X_test', X_test_lda.shape)\n",
    "print('y_test', y_test_lda.shape)"
   ]
  },
  {
   "cell_type": "code",
   "execution_count": 157,
   "id": "f1d35921",
   "metadata": {},
   "outputs": [],
   "source": [
    "X_train_lda.reset_index(inplace=True,drop=True)\n",
    "y_train_lda.reset_index(inplace=True,drop=True)\n",
    "X_test_lda.reset_index(inplace=True,drop=True)\n",
    "y_test_lda.reset_index(inplace=True,drop=True)"
   ]
  },
  {
   "cell_type": "code",
   "execution_count": 158,
   "id": "d345dd28",
   "metadata": {},
   "outputs": [],
   "source": [
    "#encoding categorical variables\n",
    "\n",
    "le=LabelEncoder()\n",
    "Oe=OrdinalEncoder()\n",
    "Ohe=OneHotEncoder()\n",
    "clf=WoEEncoder()\n",
    "\n",
    "\n",
    "# train set\n",
    "\n",
    "X_train_lda['home_ownership']=clf.fit_transform(X_train_lda[['home_ownership']],y_train_lda)\n",
    "X_train_lda['purpose']=clf.fit_transform(X_train_lda[['purpose']],y_train_lda)\n",
    "X_train_lda['grade']=Oe.fit_transform(X_train_lda[['grade']])\n",
    "X_train_lda['emp_length']=Oe.fit_transform(X_train_lda[['emp_length']])\n",
    "\n",
    "\n",
    "# test set\n",
    "\n",
    "X_test_lda['home_ownership']=clf.fit_transform(X_test_lda[['home_ownership']],y_test_lda)\n",
    "X_test_lda['purpose']=clf.fit_transform(X_test_lda[['purpose']],y_test_lda)\n",
    "X_test_lda['grade']=Oe.fit_transform(X_test_lda[['grade']])\n",
    "X_test_lda['emp_length']=Oe.fit_transform(X_test_lda[['emp_length']])\n"
   ]
  },
  {
   "cell_type": "code",
   "execution_count": 163,
   "id": "7927bdbf",
   "metadata": {},
   "outputs": [],
   "source": [
    "from sklearn.ensemble import AdaBoostClassifier,GradientBoostingClassifier"
   ]
  },
  {
   "cell_type": "code",
   "execution_count": 166,
   "id": "27a4b337",
   "metadata": {},
   "outputs": [
    {
     "data": {
      "text/html": [
       "<style>#sk-container-id-2 {color: black;background-color: white;}#sk-container-id-2 pre{padding: 0;}#sk-container-id-2 div.sk-toggleable {background-color: white;}#sk-container-id-2 label.sk-toggleable__label {cursor: pointer;display: block;width: 100%;margin-bottom: 0;padding: 0.3em;box-sizing: border-box;text-align: center;}#sk-container-id-2 label.sk-toggleable__label-arrow:before {content: \"▸\";float: left;margin-right: 0.25em;color: #696969;}#sk-container-id-2 label.sk-toggleable__label-arrow:hover:before {color: black;}#sk-container-id-2 div.sk-estimator:hover label.sk-toggleable__label-arrow:before {color: black;}#sk-container-id-2 div.sk-toggleable__content {max-height: 0;max-width: 0;overflow: hidden;text-align: left;background-color: #f0f8ff;}#sk-container-id-2 div.sk-toggleable__content pre {margin: 0.2em;color: black;border-radius: 0.25em;background-color: #f0f8ff;}#sk-container-id-2 input.sk-toggleable__control:checked~div.sk-toggleable__content {max-height: 200px;max-width: 100%;overflow: auto;}#sk-container-id-2 input.sk-toggleable__control:checked~label.sk-toggleable__label-arrow:before {content: \"▾\";}#sk-container-id-2 div.sk-estimator input.sk-toggleable__control:checked~label.sk-toggleable__label {background-color: #d4ebff;}#sk-container-id-2 div.sk-label input.sk-toggleable__control:checked~label.sk-toggleable__label {background-color: #d4ebff;}#sk-container-id-2 input.sk-hidden--visually {border: 0;clip: rect(1px 1px 1px 1px);clip: rect(1px, 1px, 1px, 1px);height: 1px;margin: -1px;overflow: hidden;padding: 0;position: absolute;width: 1px;}#sk-container-id-2 div.sk-estimator {font-family: monospace;background-color: #f0f8ff;border: 1px dotted black;border-radius: 0.25em;box-sizing: border-box;margin-bottom: 0.5em;}#sk-container-id-2 div.sk-estimator:hover {background-color: #d4ebff;}#sk-container-id-2 div.sk-parallel-item::after {content: \"\";width: 100%;border-bottom: 1px solid gray;flex-grow: 1;}#sk-container-id-2 div.sk-label:hover label.sk-toggleable__label {background-color: #d4ebff;}#sk-container-id-2 div.sk-serial::before {content: \"\";position: absolute;border-left: 1px solid gray;box-sizing: border-box;top: 0;bottom: 0;left: 50%;z-index: 0;}#sk-container-id-2 div.sk-serial {display: flex;flex-direction: column;align-items: center;background-color: white;padding-right: 0.2em;padding-left: 0.2em;position: relative;}#sk-container-id-2 div.sk-item {position: relative;z-index: 1;}#sk-container-id-2 div.sk-parallel {display: flex;align-items: stretch;justify-content: center;background-color: white;position: relative;}#sk-container-id-2 div.sk-item::before, #sk-container-id-2 div.sk-parallel-item::before {content: \"\";position: absolute;border-left: 1px solid gray;box-sizing: border-box;top: 0;bottom: 0;left: 50%;z-index: -1;}#sk-container-id-2 div.sk-parallel-item {display: flex;flex-direction: column;z-index: 1;position: relative;background-color: white;}#sk-container-id-2 div.sk-parallel-item:first-child::after {align-self: flex-end;width: 50%;}#sk-container-id-2 div.sk-parallel-item:last-child::after {align-self: flex-start;width: 50%;}#sk-container-id-2 div.sk-parallel-item:only-child::after {width: 0;}#sk-container-id-2 div.sk-dashed-wrapped {border: 1px dashed gray;margin: 0 0.4em 0.5em 0.4em;box-sizing: border-box;padding-bottom: 0.4em;background-color: white;}#sk-container-id-2 div.sk-label label {font-family: monospace;font-weight: bold;display: inline-block;line-height: 1.2em;}#sk-container-id-2 div.sk-label-container {text-align: center;}#sk-container-id-2 div.sk-container {/* jupyter's `normalize.less` sets `[hidden] { display: none; }` but bootstrap.min.css set `[hidden] { display: none !important; }` so we also need the `!important` here to be able to override the default hidden behavior on the sphinx rendered scikit-learn.org. See: https://github.com/scikit-learn/scikit-learn/issues/21755 */display: inline-block !important;position: relative;}#sk-container-id-2 div.sk-text-repr-fallback {display: none;}</style><div id=\"sk-container-id-2\" class=\"sk-top-container\"><div class=\"sk-text-repr-fallback\"><pre>GradientBoostingClassifier(max_depth=10, n_estimators=150, random_state=10)</pre><b>In a Jupyter environment, please rerun this cell to show the HTML representation or trust the notebook. <br />On GitHub, the HTML representation is unable to render, please try loading this page with nbviewer.org.</b></div><div class=\"sk-container\" hidden><div class=\"sk-item\"><div class=\"sk-estimator sk-toggleable\"><input class=\"sk-toggleable__control sk-hidden--visually\" id=\"sk-estimator-id-6\" type=\"checkbox\" checked><label for=\"sk-estimator-id-6\" class=\"sk-toggleable__label sk-toggleable__label-arrow\">GradientBoostingClassifier</label><div class=\"sk-toggleable__content\"><pre>GradientBoostingClassifier(max_depth=10, n_estimators=150, random_state=10)</pre></div></div></div></div></div>"
      ],
      "text/plain": [
       "GradientBoostingClassifier(max_depth=10, n_estimators=150, random_state=10)"
      ]
     },
     "execution_count": 166,
     "metadata": {},
     "output_type": "execute_result"
    }
   ],
   "source": [
    "# instantiate the 'AdaBoostClassifier'\n",
    "# n_estimators: number of estimators at which boosting is terminated\n",
    "# pass the 'random_state' to obtain the same results for each code implementation\n",
    "gboost_model = GradientBoostingClassifier(n_estimators = 150, max_depth = 10, random_state = 10)\n",
    "\n",
    "# fit the model using fit() on train data\n",
    "gboost_model.fit(X_train_lda, y_train_lda)\n",
    "\n"
   ]
  },
  {
   "cell_type": "code",
   "execution_count": 170,
   "id": "d3335581",
   "metadata": {},
   "outputs": [
    {
     "name": "stdout",
     "output_type": "stream",
     "text": [
      "              precision    recall  f1-score   support\n",
      "\n",
      "           0       0.82      0.99      0.90    222746\n",
      "           1       0.82      0.12      0.21     54472\n",
      "\n",
      "    accuracy                           0.82    277218\n",
      "   macro avg       0.82      0.56      0.55    277218\n",
      "weighted avg       0.82      0.82      0.76    277218\n",
      "\n"
     ]
    }
   ],
   "source": [
    "print(get_train_report(gboost_model,X_train_lda))"
   ]
  },
  {
   "cell_type": "code",
   "execution_count": 172,
   "id": "9b0899a1",
   "metadata": {},
   "outputs": [
    {
     "name": "stdout",
     "output_type": "stream",
     "text": [
      "              precision    recall  f1-score   support\n",
      "\n",
      "           0       0.81      0.98      0.89     95609\n",
      "           1       0.50      0.07      0.13     23200\n",
      "\n",
      "    accuracy                           0.80    118809\n",
      "   macro avg       0.66      0.53      0.51    118809\n",
      "weighted avg       0.75      0.80      0.74    118809\n",
      "\n"
     ]
    }
   ],
   "source": [
    "print(get_test_report(gboost_model,X_test_lda))"
   ]
  },
  {
   "cell_type": "code",
   "execution_count": 177,
   "id": "ff3003b6",
   "metadata": {},
   "outputs": [],
   "source": [
    "from imblearn.over_sampling import RandomOverSampler,SMOTE\n",
    "smt=SMOTE(sampling_strategy=0.5)\n",
    "X_train_resampled,y_train_resampled=smt.fit_resample(X_train_lda,y_train_lda)"
   ]
  },
  {
   "cell_type": "code",
   "execution_count": 178,
   "id": "853ecb39",
   "metadata": {},
   "outputs": [
    {
     "data": {
      "text/html": [
       "<style>#sk-container-id-4 {color: black;background-color: white;}#sk-container-id-4 pre{padding: 0;}#sk-container-id-4 div.sk-toggleable {background-color: white;}#sk-container-id-4 label.sk-toggleable__label {cursor: pointer;display: block;width: 100%;margin-bottom: 0;padding: 0.3em;box-sizing: border-box;text-align: center;}#sk-container-id-4 label.sk-toggleable__label-arrow:before {content: \"▸\";float: left;margin-right: 0.25em;color: #696969;}#sk-container-id-4 label.sk-toggleable__label-arrow:hover:before {color: black;}#sk-container-id-4 div.sk-estimator:hover label.sk-toggleable__label-arrow:before {color: black;}#sk-container-id-4 div.sk-toggleable__content {max-height: 0;max-width: 0;overflow: hidden;text-align: left;background-color: #f0f8ff;}#sk-container-id-4 div.sk-toggleable__content pre {margin: 0.2em;color: black;border-radius: 0.25em;background-color: #f0f8ff;}#sk-container-id-4 input.sk-toggleable__control:checked~div.sk-toggleable__content {max-height: 200px;max-width: 100%;overflow: auto;}#sk-container-id-4 input.sk-toggleable__control:checked~label.sk-toggleable__label-arrow:before {content: \"▾\";}#sk-container-id-4 div.sk-estimator input.sk-toggleable__control:checked~label.sk-toggleable__label {background-color: #d4ebff;}#sk-container-id-4 div.sk-label input.sk-toggleable__control:checked~label.sk-toggleable__label {background-color: #d4ebff;}#sk-container-id-4 input.sk-hidden--visually {border: 0;clip: rect(1px 1px 1px 1px);clip: rect(1px, 1px, 1px, 1px);height: 1px;margin: -1px;overflow: hidden;padding: 0;position: absolute;width: 1px;}#sk-container-id-4 div.sk-estimator {font-family: monospace;background-color: #f0f8ff;border: 1px dotted black;border-radius: 0.25em;box-sizing: border-box;margin-bottom: 0.5em;}#sk-container-id-4 div.sk-estimator:hover {background-color: #d4ebff;}#sk-container-id-4 div.sk-parallel-item::after {content: \"\";width: 100%;border-bottom: 1px solid gray;flex-grow: 1;}#sk-container-id-4 div.sk-label:hover label.sk-toggleable__label {background-color: #d4ebff;}#sk-container-id-4 div.sk-serial::before {content: \"\";position: absolute;border-left: 1px solid gray;box-sizing: border-box;top: 0;bottom: 0;left: 50%;z-index: 0;}#sk-container-id-4 div.sk-serial {display: flex;flex-direction: column;align-items: center;background-color: white;padding-right: 0.2em;padding-left: 0.2em;position: relative;}#sk-container-id-4 div.sk-item {position: relative;z-index: 1;}#sk-container-id-4 div.sk-parallel {display: flex;align-items: stretch;justify-content: center;background-color: white;position: relative;}#sk-container-id-4 div.sk-item::before, #sk-container-id-4 div.sk-parallel-item::before {content: \"\";position: absolute;border-left: 1px solid gray;box-sizing: border-box;top: 0;bottom: 0;left: 50%;z-index: -1;}#sk-container-id-4 div.sk-parallel-item {display: flex;flex-direction: column;z-index: 1;position: relative;background-color: white;}#sk-container-id-4 div.sk-parallel-item:first-child::after {align-self: flex-end;width: 50%;}#sk-container-id-4 div.sk-parallel-item:last-child::after {align-self: flex-start;width: 50%;}#sk-container-id-4 div.sk-parallel-item:only-child::after {width: 0;}#sk-container-id-4 div.sk-dashed-wrapped {border: 1px dashed gray;margin: 0 0.4em 0.5em 0.4em;box-sizing: border-box;padding-bottom: 0.4em;background-color: white;}#sk-container-id-4 div.sk-label label {font-family: monospace;font-weight: bold;display: inline-block;line-height: 1.2em;}#sk-container-id-4 div.sk-label-container {text-align: center;}#sk-container-id-4 div.sk-container {/* jupyter's `normalize.less` sets `[hidden] { display: none; }` but bootstrap.min.css set `[hidden] { display: none !important; }` so we also need the `!important` here to be able to override the default hidden behavior on the sphinx rendered scikit-learn.org. See: https://github.com/scikit-learn/scikit-learn/issues/21755 */display: inline-block !important;position: relative;}#sk-container-id-4 div.sk-text-repr-fallback {display: none;}</style><div id=\"sk-container-id-4\" class=\"sk-top-container\"><div class=\"sk-text-repr-fallback\"><pre>GradientBoostingClassifier(max_depth=10, n_estimators=150, random_state=10)</pre><b>In a Jupyter environment, please rerun this cell to show the HTML representation or trust the notebook. <br />On GitHub, the HTML representation is unable to render, please try loading this page with nbviewer.org.</b></div><div class=\"sk-container\" hidden><div class=\"sk-item\"><div class=\"sk-estimator sk-toggleable\"><input class=\"sk-toggleable__control sk-hidden--visually\" id=\"sk-estimator-id-8\" type=\"checkbox\" checked><label for=\"sk-estimator-id-8\" class=\"sk-toggleable__label sk-toggleable__label-arrow\">GradientBoostingClassifier</label><div class=\"sk-toggleable__content\"><pre>GradientBoostingClassifier(max_depth=10, n_estimators=150, random_state=10)</pre></div></div></div></div></div>"
      ],
      "text/plain": [
       "GradientBoostingClassifier(max_depth=10, n_estimators=150, random_state=10)"
      ]
     },
     "execution_count": 178,
     "metadata": {},
     "output_type": "execute_result"
    }
   ],
   "source": [
    "# instantiate the 'AdaBoostClassifier'\n",
    "# n_estimators: number of estimators at which boosting is terminated\n",
    "# pass the 'random_state' to obtain the same results for each code implementation\n",
    "gboost_model = GradientBoostingClassifier(n_estimators = 150, max_depth = 10, random_state = 10)\n",
    "\n",
    "# fit the model using fit() on train data\n",
    "gboost_model.fit(X_train_resampled, y_train_resampled)\n",
    "\n"
   ]
  },
  {
   "cell_type": "code",
   "execution_count": 180,
   "id": "1e301d31",
   "metadata": {},
   "outputs": [
    {
     "name": "stdout",
     "output_type": "stream",
     "text": [
      "              precision    recall  f1-score   support\n",
      "\n",
      "           0       0.95      0.00      0.00     95609\n",
      "           1       0.20      1.00      0.33     23200\n",
      "\n",
      "    accuracy                           0.20    118809\n",
      "   macro avg       0.57      0.50      0.16    118809\n",
      "weighted avg       0.80      0.20      0.06    118809\n",
      "\n"
     ]
    }
   ],
   "source": [
    "print(get_test_report(gboost_model,X_test_lda))"
   ]
  },
  {
   "cell_type": "code",
   "execution_count": 181,
   "id": "a3a1208a",
   "metadata": {},
   "outputs": [],
   "source": [
    "smt=RandomOverSampler()\n",
    "X_train_resampled,y_train_resampled=smt.fit_resample(X_train_lda,y_train_lda)"
   ]
  },
  {
   "cell_type": "code",
   "execution_count": 182,
   "id": "377da73d",
   "metadata": {},
   "outputs": [
    {
     "data": {
      "text/html": [
       "<style>#sk-container-id-5 {color: black;background-color: white;}#sk-container-id-5 pre{padding: 0;}#sk-container-id-5 div.sk-toggleable {background-color: white;}#sk-container-id-5 label.sk-toggleable__label {cursor: pointer;display: block;width: 100%;margin-bottom: 0;padding: 0.3em;box-sizing: border-box;text-align: center;}#sk-container-id-5 label.sk-toggleable__label-arrow:before {content: \"▸\";float: left;margin-right: 0.25em;color: #696969;}#sk-container-id-5 label.sk-toggleable__label-arrow:hover:before {color: black;}#sk-container-id-5 div.sk-estimator:hover label.sk-toggleable__label-arrow:before {color: black;}#sk-container-id-5 div.sk-toggleable__content {max-height: 0;max-width: 0;overflow: hidden;text-align: left;background-color: #f0f8ff;}#sk-container-id-5 div.sk-toggleable__content pre {margin: 0.2em;color: black;border-radius: 0.25em;background-color: #f0f8ff;}#sk-container-id-5 input.sk-toggleable__control:checked~div.sk-toggleable__content {max-height: 200px;max-width: 100%;overflow: auto;}#sk-container-id-5 input.sk-toggleable__control:checked~label.sk-toggleable__label-arrow:before {content: \"▾\";}#sk-container-id-5 div.sk-estimator input.sk-toggleable__control:checked~label.sk-toggleable__label {background-color: #d4ebff;}#sk-container-id-5 div.sk-label input.sk-toggleable__control:checked~label.sk-toggleable__label {background-color: #d4ebff;}#sk-container-id-5 input.sk-hidden--visually {border: 0;clip: rect(1px 1px 1px 1px);clip: rect(1px, 1px, 1px, 1px);height: 1px;margin: -1px;overflow: hidden;padding: 0;position: absolute;width: 1px;}#sk-container-id-5 div.sk-estimator {font-family: monospace;background-color: #f0f8ff;border: 1px dotted black;border-radius: 0.25em;box-sizing: border-box;margin-bottom: 0.5em;}#sk-container-id-5 div.sk-estimator:hover {background-color: #d4ebff;}#sk-container-id-5 div.sk-parallel-item::after {content: \"\";width: 100%;border-bottom: 1px solid gray;flex-grow: 1;}#sk-container-id-5 div.sk-label:hover label.sk-toggleable__label {background-color: #d4ebff;}#sk-container-id-5 div.sk-serial::before {content: \"\";position: absolute;border-left: 1px solid gray;box-sizing: border-box;top: 0;bottom: 0;left: 50%;z-index: 0;}#sk-container-id-5 div.sk-serial {display: flex;flex-direction: column;align-items: center;background-color: white;padding-right: 0.2em;padding-left: 0.2em;position: relative;}#sk-container-id-5 div.sk-item {position: relative;z-index: 1;}#sk-container-id-5 div.sk-parallel {display: flex;align-items: stretch;justify-content: center;background-color: white;position: relative;}#sk-container-id-5 div.sk-item::before, #sk-container-id-5 div.sk-parallel-item::before {content: \"\";position: absolute;border-left: 1px solid gray;box-sizing: border-box;top: 0;bottom: 0;left: 50%;z-index: -1;}#sk-container-id-5 div.sk-parallel-item {display: flex;flex-direction: column;z-index: 1;position: relative;background-color: white;}#sk-container-id-5 div.sk-parallel-item:first-child::after {align-self: flex-end;width: 50%;}#sk-container-id-5 div.sk-parallel-item:last-child::after {align-self: flex-start;width: 50%;}#sk-container-id-5 div.sk-parallel-item:only-child::after {width: 0;}#sk-container-id-5 div.sk-dashed-wrapped {border: 1px dashed gray;margin: 0 0.4em 0.5em 0.4em;box-sizing: border-box;padding-bottom: 0.4em;background-color: white;}#sk-container-id-5 div.sk-label label {font-family: monospace;font-weight: bold;display: inline-block;line-height: 1.2em;}#sk-container-id-5 div.sk-label-container {text-align: center;}#sk-container-id-5 div.sk-container {/* jupyter's `normalize.less` sets `[hidden] { display: none; }` but bootstrap.min.css set `[hidden] { display: none !important; }` so we also need the `!important` here to be able to override the default hidden behavior on the sphinx rendered scikit-learn.org. See: https://github.com/scikit-learn/scikit-learn/issues/21755 */display: inline-block !important;position: relative;}#sk-container-id-5 div.sk-text-repr-fallback {display: none;}</style><div id=\"sk-container-id-5\" class=\"sk-top-container\"><div class=\"sk-text-repr-fallback\"><pre>GradientBoostingClassifier(max_depth=10, n_estimators=150, random_state=10)</pre><b>In a Jupyter environment, please rerun this cell to show the HTML representation or trust the notebook. <br />On GitHub, the HTML representation is unable to render, please try loading this page with nbviewer.org.</b></div><div class=\"sk-container\" hidden><div class=\"sk-item\"><div class=\"sk-estimator sk-toggleable\"><input class=\"sk-toggleable__control sk-hidden--visually\" id=\"sk-estimator-id-9\" type=\"checkbox\" checked><label for=\"sk-estimator-id-9\" class=\"sk-toggleable__label sk-toggleable__label-arrow\">GradientBoostingClassifier</label><div class=\"sk-toggleable__content\"><pre>GradientBoostingClassifier(max_depth=10, n_estimators=150, random_state=10)</pre></div></div></div></div></div>"
      ],
      "text/plain": [
       "GradientBoostingClassifier(max_depth=10, n_estimators=150, random_state=10)"
      ]
     },
     "execution_count": 182,
     "metadata": {},
     "output_type": "execute_result"
    }
   ],
   "source": [
    "# instantiate the 'AdaBoostClassifier'\n",
    "# n_estimators: number of estimators at which boosting is terminated\n",
    "# pass the 'random_state' to obtain the same results for each code implementation\n",
    "gboost_model = GradientBoostingClassifier(n_estimators = 150, max_depth = 10, random_state = 10)\n",
    "\n",
    "# fit the model using fit() on train data\n",
    "gboost_model.fit(X_train_resampled, y_train_resampled)\n"
   ]
  },
  {
   "cell_type": "code",
   "execution_count": 183,
   "id": "5472ee58",
   "metadata": {},
   "outputs": [
    {
     "name": "stdout",
     "output_type": "stream",
     "text": [
      "              precision    recall  f1-score   support\n",
      "\n",
      "           0       0.88      0.66      0.75     95609\n",
      "           1       0.31      0.63      0.41     23200\n",
      "\n",
      "    accuracy                           0.65    118809\n",
      "   macro avg       0.59      0.64      0.58    118809\n",
      "weighted avg       0.77      0.65      0.69    118809\n",
      "\n"
     ]
    }
   ],
   "source": [
    "print(get_test_report(gboost_model,X_test_lda))"
   ]
  },
  {
   "cell_type": "code",
   "execution_count": null,
   "id": "fbd481cd",
   "metadata": {},
   "outputs": [],
   "source": []
  }
 ],
 "metadata": {
  "kernelspec": {
   "display_name": "Python 3 (ipykernel)",
   "language": "python",
   "name": "python3"
  },
  "language_info": {
   "codemirror_mode": {
    "name": "ipython",
    "version": 3
   },
   "file_extension": ".py",
   "mimetype": "text/x-python",
   "name": "python",
   "nbconvert_exporter": "python",
   "pygments_lexer": "ipython3",
   "version": "3.9.7"
  }
 },
 "nbformat": 4,
 "nbformat_minor": 5
}
